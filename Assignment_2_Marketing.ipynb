{
 "cells": [
  {
   "cell_type": "markdown",
   "metadata": {},
   "source": [
    "# Bank Marketing with Machine Learning Analysis"
   ]
  },
  {
   "cell_type": "code",
   "execution_count": 97,
   "metadata": {},
   "outputs": [
    {
     "data": {
      "text/html": [
       "<img src=\"https://csbcorrespondent.com/sites/default/files/styles/blog_feature_full/public/blog/Transactional%20Bank%20Marketing.jpg?itok=jW2vHdQS\"/>"
      ],
      "text/plain": [
       "<IPython.core.display.Image object>"
      ]
     },
     "execution_count": 97,
     "metadata": {},
     "output_type": "execute_result"
    }
   ],
   "source": [
    "from IPython.display import HTML\n",
    "from IPython.display import Image\n",
    "Image(url= \"https://csbcorrespondent.com/sites/default/files/styles/blog_feature_full/public/blog/Transactional%20Bank%20Marketing.jpg?itok=jW2vHdQS\")"
   ]
  },
  {
   "cell_type": "markdown",
   "metadata": {},
   "source": [
    "### Abstract:\n",
    "\n",
    "The data set is based off the direct marketing campaigns of a Portuguese banking institution. These marketing campaigns were based on phone calls. More than one contact to a client was required, in order to know if the product (bank term deposit) was subscribed by a client or not. The dataset contains 21 columns. \n",
    "\n",
    "The aim is to classify whether the customer have default in the credit or not, this is done by Logistic Regression. Also, we consider multiple metrics to determine the fitness of model which were analysed using Linear and Logistic Regression. "
   ]
  },
  {
   "cell_type": "markdown",
   "metadata": {},
   "source": [
    "### Input variables:\n",
    "\n",
    "1 - age (numeric)\n",
    "\n",
    "2 - job : type of job (categorical: 'admin.','blue-collar','entrepreneur','housemaid','management','retired','self-employed','services','student','technician','unemployed','unknown')\n",
    "\n",
    "3 - marital : marital status (categorical: 'divorced','married','single','unknown'; note: 'divorced' means divorced or widowed)\n",
    "\n",
    "4 - education (categorical: 'basic.4y','basic.6y','basic.9y','high.school','illiterate','professional.course','university.degree','unknown')\n",
    "\n",
    "5 - default: has credit in default? (categorical: 'no','yes','unknown')\n",
    "\n",
    "6 - housing: has housing loan? (categorical: 'no','yes','unknown')\n",
    "\n",
    "7 - loan: has personal loan? (categorical: 'no','yes','unknown')\n",
    "\n",
    "### Related with the last contact of the current campaign:\n",
    "\n",
    "8 - contact: contact communication type (categorical: 'cellular','telephone')\n",
    "\n",
    "9 - month: last contact month of year (categorical: 'jan', 'feb', 'mar', ..., 'nov', 'dec')\n",
    "\n",
    "10 - day_of_week: last contact day of the week (categorical: 'mon','tue','wed','thu','fri')\n",
    "\n",
    "11 - duration: last contact duration, in seconds (numeric). Important note: this attribute highly affects the output target (e.g., if duration=0 then y='no'). Yet, the duration is not known before a call is performed. Also, after the end of the call y is obviously known. Thus, this input should only be included for benchmark purposes and should be discarded if the intention is to have a realistic predictive model.\n",
    "\n",
    "### Other attributes:\n",
    "\n",
    "12 - campaign: number of contacts performed during this campaign and for this client (numeric, includes last contact)\n",
    "\n",
    "13 - pdays: number of days that passed by after the client was last contacted from a previous campaign (numeric; 999 means client was not previously contacted)\n",
    "\n",
    "14 - previous: number of contacts performed before this campaign and for this client (numeric)\n",
    "\n",
    "15 - poutcome: outcome of the previous marketing campaign (categorical: 'failure','nonexistent','success')\n",
    "\n",
    "### Social and economic context attributes:\n",
    "\n",
    "16 - emp.var.rate: employment variation rate - quarterly indicator (numeric)\n",
    "\n",
    "17 - cons.price.idx: consumer price index - monthly indicator (numeric)\n",
    "\n",
    "18 - cons.conf.idx: consumer confidence index - monthly indicator (numeric)\n",
    "\n",
    "19 - euribor3m: euribor 3 month rate - daily indicator (numeric)\n",
    "\n",
    "20 - nr.employed: number of employees - quarterly indicator (numeric)\n",
    "\n",
    "### Output variable (desired target - Linear and Logistic Regression):\n",
    "\n",
    "21 - nr.employed - number of employees - quarterly indicator\n",
    "\n",
    "22 - deafult - has credit in default?\n",
    "\n",
    "Source:https://archive.ics.uci.edu/ml/machine-learning-databases/00222/\n",
    "\n",
    "Dataset has 40,000+ rows of data."
   ]
  },
  {
   "cell_type": "markdown",
   "metadata": {},
   "source": [
    "### Data Exploration\n",
    "\n",
    "Importing the pandas, seaborn, numpy, matplotlib package which is used for manupulation and visualization of data . \n",
    "Then, loaded the dataset into the dataframe (bank)."
   ]
  },
  {
   "cell_type": "code",
   "execution_count": 98,
   "metadata": {},
   "outputs": [],
   "source": [
    "import pandas as pd\n",
    "import seaborn as sns\n",
    "import matplotlib.pyplot as plt\n",
    "import numpy as np\n",
    "from sklearn.linear_model import LinearRegression\n",
    "from sklearn.metrics import mean_squared_error, mean_squared_log_error\n",
    "import statsmodels\n",
    "import warnings\n",
    "warnings.filterwarnings('ignore')"
   ]
  },
  {
   "cell_type": "code",
   "execution_count": 99,
   "metadata": {},
   "outputs": [],
   "source": [
    "bank = pd.read_csv(\"Marketing.csv\", sep = ';')"
   ]
  },
  {
   "cell_type": "markdown",
   "metadata": {},
   "source": [
    "### Exploring the data set and unique values\n",
    "Pandas doesn't allow you to see all the columns at once, so we will look at them in groups of 10"
   ]
  },
  {
   "cell_type": "code",
   "execution_count": 100,
   "metadata": {},
   "outputs": [
    {
     "data": {
      "text/html": [
       "<div>\n",
       "<style scoped>\n",
       "    .dataframe tbody tr th:only-of-type {\n",
       "        vertical-align: middle;\n",
       "    }\n",
       "\n",
       "    .dataframe tbody tr th {\n",
       "        vertical-align: top;\n",
       "    }\n",
       "\n",
       "    .dataframe thead th {\n",
       "        text-align: right;\n",
       "    }\n",
       "</style>\n",
       "<table border=\"1\" class=\"dataframe\">\n",
       "  <thead>\n",
       "    <tr style=\"text-align: right;\">\n",
       "      <th></th>\n",
       "      <th>duration</th>\n",
       "      <th>campaign</th>\n",
       "      <th>pdays</th>\n",
       "      <th>previous</th>\n",
       "      <th>poutcome</th>\n",
       "      <th>emp.var.rate</th>\n",
       "      <th>cons.price.idx</th>\n",
       "      <th>cons.conf.idx</th>\n",
       "      <th>euribor3m</th>\n",
       "      <th>nr.employed</th>\n",
       "      <th>y</th>\n",
       "    </tr>\n",
       "  </thead>\n",
       "  <tbody>\n",
       "    <tr>\n",
       "      <th>0</th>\n",
       "      <td>261</td>\n",
       "      <td>1</td>\n",
       "      <td>999</td>\n",
       "      <td>0</td>\n",
       "      <td>nonexistent</td>\n",
       "      <td>1.1</td>\n",
       "      <td>93.994</td>\n",
       "      <td>-36.4</td>\n",
       "      <td>4.857</td>\n",
       "      <td>5191.0</td>\n",
       "      <td>no</td>\n",
       "    </tr>\n",
       "    <tr>\n",
       "      <th>1</th>\n",
       "      <td>149</td>\n",
       "      <td>1</td>\n",
       "      <td>999</td>\n",
       "      <td>0</td>\n",
       "      <td>nonexistent</td>\n",
       "      <td>1.1</td>\n",
       "      <td>93.994</td>\n",
       "      <td>-36.4</td>\n",
       "      <td>4.857</td>\n",
       "      <td>5191.0</td>\n",
       "      <td>no</td>\n",
       "    </tr>\n",
       "    <tr>\n",
       "      <th>2</th>\n",
       "      <td>226</td>\n",
       "      <td>1</td>\n",
       "      <td>999</td>\n",
       "      <td>0</td>\n",
       "      <td>nonexistent</td>\n",
       "      <td>1.1</td>\n",
       "      <td>93.994</td>\n",
       "      <td>-36.4</td>\n",
       "      <td>4.857</td>\n",
       "      <td>5191.0</td>\n",
       "      <td>no</td>\n",
       "    </tr>\n",
       "    <tr>\n",
       "      <th>3</th>\n",
       "      <td>151</td>\n",
       "      <td>1</td>\n",
       "      <td>999</td>\n",
       "      <td>0</td>\n",
       "      <td>nonexistent</td>\n",
       "      <td>1.1</td>\n",
       "      <td>93.994</td>\n",
       "      <td>-36.4</td>\n",
       "      <td>4.857</td>\n",
       "      <td>5191.0</td>\n",
       "      <td>no</td>\n",
       "    </tr>\n",
       "    <tr>\n",
       "      <th>4</th>\n",
       "      <td>307</td>\n",
       "      <td>1</td>\n",
       "      <td>999</td>\n",
       "      <td>0</td>\n",
       "      <td>nonexistent</td>\n",
       "      <td>1.1</td>\n",
       "      <td>93.994</td>\n",
       "      <td>-36.4</td>\n",
       "      <td>4.857</td>\n",
       "      <td>5191.0</td>\n",
       "      <td>no</td>\n",
       "    </tr>\n",
       "  </tbody>\n",
       "</table>\n",
       "</div>"
      ],
      "text/plain": [
       "   duration  campaign  pdays  previous     poutcome  emp.var.rate  \\\n",
       "0       261         1    999         0  nonexistent           1.1   \n",
       "1       149         1    999         0  nonexistent           1.1   \n",
       "2       226         1    999         0  nonexistent           1.1   \n",
       "3       151         1    999         0  nonexistent           1.1   \n",
       "4       307         1    999         0  nonexistent           1.1   \n",
       "\n",
       "   cons.price.idx  cons.conf.idx  euribor3m  nr.employed   y  \n",
       "0          93.994          -36.4      4.857       5191.0  no  \n",
       "1          93.994          -36.4      4.857       5191.0  no  \n",
       "2          93.994          -36.4      4.857       5191.0  no  \n",
       "3          93.994          -36.4      4.857       5191.0  no  \n",
       "4          93.994          -36.4      4.857       5191.0  no  "
      ]
     },
     "execution_count": 100,
     "metadata": {},
     "output_type": "execute_result"
    }
   ],
   "source": [
    "bank[list(bank.columns)[10:]].head()"
   ]
  },
  {
   "cell_type": "markdown",
   "metadata": {},
   "source": [
    "- Pandas head() method is used to return top n (5 by default) rows of a data frame or series\n",
    "##### Table Overview: The following table helps us to understand what kind of dataset we are analysing and what are the attributes included in the dataset"
   ]
  },
  {
   "cell_type": "code",
   "execution_count": 101,
   "metadata": {},
   "outputs": [
    {
     "data": {
      "text/html": [
       "<div>\n",
       "<style scoped>\n",
       "    .dataframe tbody tr th:only-of-type {\n",
       "        vertical-align: middle;\n",
       "    }\n",
       "\n",
       "    .dataframe tbody tr th {\n",
       "        vertical-align: top;\n",
       "    }\n",
       "\n",
       "    .dataframe thead th {\n",
       "        text-align: right;\n",
       "    }\n",
       "</style>\n",
       "<table border=\"1\" class=\"dataframe\">\n",
       "  <thead>\n",
       "    <tr style=\"text-align: right;\">\n",
       "      <th></th>\n",
       "      <th>age</th>\n",
       "      <th>job</th>\n",
       "      <th>marital</th>\n",
       "      <th>education</th>\n",
       "      <th>default</th>\n",
       "      <th>housing</th>\n",
       "      <th>loan</th>\n",
       "      <th>contact</th>\n",
       "      <th>month</th>\n",
       "      <th>day_of_week</th>\n",
       "      <th>...</th>\n",
       "      <th>campaign</th>\n",
       "      <th>pdays</th>\n",
       "      <th>previous</th>\n",
       "      <th>poutcome</th>\n",
       "      <th>emp.var.rate</th>\n",
       "      <th>cons.price.idx</th>\n",
       "      <th>cons.conf.idx</th>\n",
       "      <th>euribor3m</th>\n",
       "      <th>nr.employed</th>\n",
       "      <th>y</th>\n",
       "    </tr>\n",
       "  </thead>\n",
       "  <tbody>\n",
       "    <tr>\n",
       "      <th>0</th>\n",
       "      <td>56</td>\n",
       "      <td>housemaid</td>\n",
       "      <td>married</td>\n",
       "      <td>basic.4y</td>\n",
       "      <td>no</td>\n",
       "      <td>no</td>\n",
       "      <td>no</td>\n",
       "      <td>telephone</td>\n",
       "      <td>may</td>\n",
       "      <td>mon</td>\n",
       "      <td>...</td>\n",
       "      <td>1</td>\n",
       "      <td>999</td>\n",
       "      <td>0</td>\n",
       "      <td>nonexistent</td>\n",
       "      <td>1.1</td>\n",
       "      <td>93.994</td>\n",
       "      <td>-36.4</td>\n",
       "      <td>4.857</td>\n",
       "      <td>5191.0</td>\n",
       "      <td>no</td>\n",
       "    </tr>\n",
       "    <tr>\n",
       "      <th>1</th>\n",
       "      <td>57</td>\n",
       "      <td>services</td>\n",
       "      <td>married</td>\n",
       "      <td>high.school</td>\n",
       "      <td>unknown</td>\n",
       "      <td>no</td>\n",
       "      <td>no</td>\n",
       "      <td>telephone</td>\n",
       "      <td>may</td>\n",
       "      <td>mon</td>\n",
       "      <td>...</td>\n",
       "      <td>1</td>\n",
       "      <td>999</td>\n",
       "      <td>0</td>\n",
       "      <td>nonexistent</td>\n",
       "      <td>1.1</td>\n",
       "      <td>93.994</td>\n",
       "      <td>-36.4</td>\n",
       "      <td>4.857</td>\n",
       "      <td>5191.0</td>\n",
       "      <td>no</td>\n",
       "    </tr>\n",
       "    <tr>\n",
       "      <th>2</th>\n",
       "      <td>37</td>\n",
       "      <td>services</td>\n",
       "      <td>married</td>\n",
       "      <td>high.school</td>\n",
       "      <td>no</td>\n",
       "      <td>yes</td>\n",
       "      <td>no</td>\n",
       "      <td>telephone</td>\n",
       "      <td>may</td>\n",
       "      <td>mon</td>\n",
       "      <td>...</td>\n",
       "      <td>1</td>\n",
       "      <td>999</td>\n",
       "      <td>0</td>\n",
       "      <td>nonexistent</td>\n",
       "      <td>1.1</td>\n",
       "      <td>93.994</td>\n",
       "      <td>-36.4</td>\n",
       "      <td>4.857</td>\n",
       "      <td>5191.0</td>\n",
       "      <td>no</td>\n",
       "    </tr>\n",
       "    <tr>\n",
       "      <th>3</th>\n",
       "      <td>40</td>\n",
       "      <td>admin.</td>\n",
       "      <td>married</td>\n",
       "      <td>basic.6y</td>\n",
       "      <td>no</td>\n",
       "      <td>no</td>\n",
       "      <td>no</td>\n",
       "      <td>telephone</td>\n",
       "      <td>may</td>\n",
       "      <td>mon</td>\n",
       "      <td>...</td>\n",
       "      <td>1</td>\n",
       "      <td>999</td>\n",
       "      <td>0</td>\n",
       "      <td>nonexistent</td>\n",
       "      <td>1.1</td>\n",
       "      <td>93.994</td>\n",
       "      <td>-36.4</td>\n",
       "      <td>4.857</td>\n",
       "      <td>5191.0</td>\n",
       "      <td>no</td>\n",
       "    </tr>\n",
       "    <tr>\n",
       "      <th>4</th>\n",
       "      <td>56</td>\n",
       "      <td>services</td>\n",
       "      <td>married</td>\n",
       "      <td>high.school</td>\n",
       "      <td>no</td>\n",
       "      <td>no</td>\n",
       "      <td>yes</td>\n",
       "      <td>telephone</td>\n",
       "      <td>may</td>\n",
       "      <td>mon</td>\n",
       "      <td>...</td>\n",
       "      <td>1</td>\n",
       "      <td>999</td>\n",
       "      <td>0</td>\n",
       "      <td>nonexistent</td>\n",
       "      <td>1.1</td>\n",
       "      <td>93.994</td>\n",
       "      <td>-36.4</td>\n",
       "      <td>4.857</td>\n",
       "      <td>5191.0</td>\n",
       "      <td>no</td>\n",
       "    </tr>\n",
       "  </tbody>\n",
       "</table>\n",
       "<p>5 rows × 21 columns</p>\n",
       "</div>"
      ],
      "text/plain": [
       "   age        job  marital    education  default housing loan    contact  \\\n",
       "0   56  housemaid  married     basic.4y       no      no   no  telephone   \n",
       "1   57   services  married  high.school  unknown      no   no  telephone   \n",
       "2   37   services  married  high.school       no     yes   no  telephone   \n",
       "3   40     admin.  married     basic.6y       no      no   no  telephone   \n",
       "4   56   services  married  high.school       no      no  yes  telephone   \n",
       "\n",
       "  month day_of_week ...  campaign  pdays  previous     poutcome emp.var.rate  \\\n",
       "0   may         mon ...         1    999         0  nonexistent          1.1   \n",
       "1   may         mon ...         1    999         0  nonexistent          1.1   \n",
       "2   may         mon ...         1    999         0  nonexistent          1.1   \n",
       "3   may         mon ...         1    999         0  nonexistent          1.1   \n",
       "4   may         mon ...         1    999         0  nonexistent          1.1   \n",
       "\n",
       "   cons.price.idx  cons.conf.idx  euribor3m  nr.employed   y  \n",
       "0          93.994          -36.4      4.857       5191.0  no  \n",
       "1          93.994          -36.4      4.857       5191.0  no  \n",
       "2          93.994          -36.4      4.857       5191.0  no  \n",
       "3          93.994          -36.4      4.857       5191.0  no  \n",
       "4          93.994          -36.4      4.857       5191.0  no  \n",
       "\n",
       "[5 rows x 21 columns]"
      ]
     },
     "execution_count": 101,
     "metadata": {},
     "output_type": "execute_result"
    }
   ],
   "source": [
    "bank.head()"
   ]
  },
  {
   "cell_type": "markdown",
   "metadata": {},
   "source": [
    "- Removing \"unknown\" values from the columns mentioned below to make the dataset to easy to work with. The \"unknown\" values has been filled with either \"yes\" or \"no\""
   ]
  },
  {
   "cell_type": "code",
   "execution_count": 102,
   "metadata": {},
   "outputs": [],
   "source": [
    "bank['default'].value_counts()\n",
    "bank['housing'].value_counts()\n",
    "bank['loan'].value_counts()\n",
    "bank['default']=bank['default'].map({'no':'no','yes':'yes','unknown':'yes'})\n",
    "bank['housing']=bank['housing'].map({'no':'no','yes':'yes','unknown':'yes'})\n",
    "bank['loan']=bank['loan'].map({'no':'no','yes':'yes','unknown':'yes'})\n",
    "bank['education'].value_counts()\n",
    "bank['education']=bank['education'].map({'university.degree':'university.degree','high.school':'high.school','unknown':'not.known','basic.9y':'basic.9y','professional.course':'professional.course','basic.6y':'basic.6y','basic.4y':'basic.4y','illiterate':'illiterate'})\n"
   ]
  },
  {
   "cell_type": "markdown",
   "metadata": {},
   "source": [
    "#### Statistical analysis of the dataset\n",
    "\n",
    "- describe() function generates descriptive statistics that summarize the central tendency, dispersion and shape of a dataset’s distribution, excluding NaN values.\n",
    "- Analyzes both numeric and object series, as well as DataFrame column sets of mixed data types. The output will vary depending on what is provided."
   ]
  },
  {
   "cell_type": "code",
   "execution_count": 103,
   "metadata": {},
   "outputs": [
    {
     "data": {
      "text/html": [
       "<div>\n",
       "<style scoped>\n",
       "    .dataframe tbody tr th:only-of-type {\n",
       "        vertical-align: middle;\n",
       "    }\n",
       "\n",
       "    .dataframe tbody tr th {\n",
       "        vertical-align: top;\n",
       "    }\n",
       "\n",
       "    .dataframe thead th {\n",
       "        text-align: right;\n",
       "    }\n",
       "</style>\n",
       "<table border=\"1\" class=\"dataframe\">\n",
       "  <thead>\n",
       "    <tr style=\"text-align: right;\">\n",
       "      <th></th>\n",
       "      <th>age</th>\n",
       "      <th>duration</th>\n",
       "      <th>campaign</th>\n",
       "      <th>pdays</th>\n",
       "      <th>previous</th>\n",
       "      <th>emp.var.rate</th>\n",
       "      <th>cons.price.idx</th>\n",
       "      <th>cons.conf.idx</th>\n",
       "      <th>euribor3m</th>\n",
       "      <th>nr.employed</th>\n",
       "    </tr>\n",
       "  </thead>\n",
       "  <tbody>\n",
       "    <tr>\n",
       "      <th>count</th>\n",
       "      <td>41188.00000</td>\n",
       "      <td>41188.000000</td>\n",
       "      <td>41188.000000</td>\n",
       "      <td>41188.000000</td>\n",
       "      <td>41188.000000</td>\n",
       "      <td>41188.000000</td>\n",
       "      <td>41188.000000</td>\n",
       "      <td>41188.000000</td>\n",
       "      <td>41188.000000</td>\n",
       "      <td>41188.000000</td>\n",
       "    </tr>\n",
       "    <tr>\n",
       "      <th>mean</th>\n",
       "      <td>40.02406</td>\n",
       "      <td>258.285010</td>\n",
       "      <td>2.567593</td>\n",
       "      <td>962.475454</td>\n",
       "      <td>0.172963</td>\n",
       "      <td>0.081886</td>\n",
       "      <td>93.575664</td>\n",
       "      <td>-40.502600</td>\n",
       "      <td>3.621291</td>\n",
       "      <td>5167.035911</td>\n",
       "    </tr>\n",
       "    <tr>\n",
       "      <th>std</th>\n",
       "      <td>10.42125</td>\n",
       "      <td>259.279249</td>\n",
       "      <td>2.770014</td>\n",
       "      <td>186.910907</td>\n",
       "      <td>0.494901</td>\n",
       "      <td>1.570960</td>\n",
       "      <td>0.578840</td>\n",
       "      <td>4.628198</td>\n",
       "      <td>1.734447</td>\n",
       "      <td>72.251528</td>\n",
       "    </tr>\n",
       "    <tr>\n",
       "      <th>min</th>\n",
       "      <td>17.00000</td>\n",
       "      <td>0.000000</td>\n",
       "      <td>1.000000</td>\n",
       "      <td>0.000000</td>\n",
       "      <td>0.000000</td>\n",
       "      <td>-3.400000</td>\n",
       "      <td>92.201000</td>\n",
       "      <td>-50.800000</td>\n",
       "      <td>0.634000</td>\n",
       "      <td>4963.600000</td>\n",
       "    </tr>\n",
       "    <tr>\n",
       "      <th>25%</th>\n",
       "      <td>32.00000</td>\n",
       "      <td>102.000000</td>\n",
       "      <td>1.000000</td>\n",
       "      <td>999.000000</td>\n",
       "      <td>0.000000</td>\n",
       "      <td>-1.800000</td>\n",
       "      <td>93.075000</td>\n",
       "      <td>-42.700000</td>\n",
       "      <td>1.344000</td>\n",
       "      <td>5099.100000</td>\n",
       "    </tr>\n",
       "    <tr>\n",
       "      <th>50%</th>\n",
       "      <td>38.00000</td>\n",
       "      <td>180.000000</td>\n",
       "      <td>2.000000</td>\n",
       "      <td>999.000000</td>\n",
       "      <td>0.000000</td>\n",
       "      <td>1.100000</td>\n",
       "      <td>93.749000</td>\n",
       "      <td>-41.800000</td>\n",
       "      <td>4.857000</td>\n",
       "      <td>5191.000000</td>\n",
       "    </tr>\n",
       "    <tr>\n",
       "      <th>75%</th>\n",
       "      <td>47.00000</td>\n",
       "      <td>319.000000</td>\n",
       "      <td>3.000000</td>\n",
       "      <td>999.000000</td>\n",
       "      <td>0.000000</td>\n",
       "      <td>1.400000</td>\n",
       "      <td>93.994000</td>\n",
       "      <td>-36.400000</td>\n",
       "      <td>4.961000</td>\n",
       "      <td>5228.100000</td>\n",
       "    </tr>\n",
       "    <tr>\n",
       "      <th>max</th>\n",
       "      <td>98.00000</td>\n",
       "      <td>4918.000000</td>\n",
       "      <td>56.000000</td>\n",
       "      <td>999.000000</td>\n",
       "      <td>7.000000</td>\n",
       "      <td>1.400000</td>\n",
       "      <td>94.767000</td>\n",
       "      <td>-26.900000</td>\n",
       "      <td>5.045000</td>\n",
       "      <td>5228.100000</td>\n",
       "    </tr>\n",
       "  </tbody>\n",
       "</table>\n",
       "</div>"
      ],
      "text/plain": [
       "               age      duration      campaign         pdays      previous  \\\n",
       "count  41188.00000  41188.000000  41188.000000  41188.000000  41188.000000   \n",
       "mean      40.02406    258.285010      2.567593    962.475454      0.172963   \n",
       "std       10.42125    259.279249      2.770014    186.910907      0.494901   \n",
       "min       17.00000      0.000000      1.000000      0.000000      0.000000   \n",
       "25%       32.00000    102.000000      1.000000    999.000000      0.000000   \n",
       "50%       38.00000    180.000000      2.000000    999.000000      0.000000   \n",
       "75%       47.00000    319.000000      3.000000    999.000000      0.000000   \n",
       "max       98.00000   4918.000000     56.000000    999.000000      7.000000   \n",
       "\n",
       "       emp.var.rate  cons.price.idx  cons.conf.idx     euribor3m   nr.employed  \n",
       "count  41188.000000    41188.000000   41188.000000  41188.000000  41188.000000  \n",
       "mean       0.081886       93.575664     -40.502600      3.621291   5167.035911  \n",
       "std        1.570960        0.578840       4.628198      1.734447     72.251528  \n",
       "min       -3.400000       92.201000     -50.800000      0.634000   4963.600000  \n",
       "25%       -1.800000       93.075000     -42.700000      1.344000   5099.100000  \n",
       "50%        1.100000       93.749000     -41.800000      4.857000   5191.000000  \n",
       "75%        1.400000       93.994000     -36.400000      4.961000   5228.100000  \n",
       "max        1.400000       94.767000     -26.900000      5.045000   5228.100000  "
      ]
     },
     "execution_count": 103,
     "metadata": {},
     "output_type": "execute_result"
    }
   ],
   "source": [
    "bank.describe()"
   ]
  },
  {
   "cell_type": "code",
   "execution_count": 104,
   "metadata": {},
   "outputs": [
    {
     "data": {
      "text/plain": [
       "False"
      ]
     },
     "execution_count": 104,
     "metadata": {},
     "output_type": "execute_result"
    }
   ],
   "source": [
    "bank.isnull().values.any() "
   ]
  },
  {
   "cell_type": "markdown",
   "metadata": {},
   "source": [
    "There are no null values in the dataset. Next, proceeding with correlation. "
   ]
  },
  {
   "cell_type": "markdown",
   "metadata": {},
   "source": [
    "### Correlation of variables:\n",
    "\n",
    "The term \"correlation\" refers to a mutual relationship or association between quantities. In almost any business, it is useful to express one quantity in terms of its relationship with others\n",
    "\n",
    "The correlation coefficient r measures the strength and direction of a linear relationship between two variables on a scatterplot. if r>0 higher the correlation and if r<0 correlation is inversely related\n",
    "\n",
    "- Correlation is a statistical measure that describes the association between random variables. "
   ]
  },
  {
   "cell_type": "markdown",
   "metadata": {},
   "source": [
    "###### Table Overview:- Gives the Correlated values of each column with each other in a dataframe"
   ]
  },
  {
   "cell_type": "code",
   "execution_count": 105,
   "metadata": {},
   "outputs": [
    {
     "data": {
      "text/html": [
       "<div>\n",
       "<style scoped>\n",
       "    .dataframe tbody tr th:only-of-type {\n",
       "        vertical-align: middle;\n",
       "    }\n",
       "\n",
       "    .dataframe tbody tr th {\n",
       "        vertical-align: top;\n",
       "    }\n",
       "\n",
       "    .dataframe thead th {\n",
       "        text-align: right;\n",
       "    }\n",
       "</style>\n",
       "<table border=\"1\" class=\"dataframe\">\n",
       "  <thead>\n",
       "    <tr style=\"text-align: right;\">\n",
       "      <th></th>\n",
       "      <th>age</th>\n",
       "      <th>duration</th>\n",
       "      <th>campaign</th>\n",
       "      <th>pdays</th>\n",
       "      <th>previous</th>\n",
       "      <th>emp.var.rate</th>\n",
       "      <th>cons.price.idx</th>\n",
       "      <th>cons.conf.idx</th>\n",
       "      <th>euribor3m</th>\n",
       "      <th>nr.employed</th>\n",
       "    </tr>\n",
       "  </thead>\n",
       "  <tbody>\n",
       "    <tr>\n",
       "      <th>age</th>\n",
       "      <td>1.000000</td>\n",
       "      <td>-0.000866</td>\n",
       "      <td>0.004594</td>\n",
       "      <td>-0.034369</td>\n",
       "      <td>0.024365</td>\n",
       "      <td>-0.000371</td>\n",
       "      <td>0.000857</td>\n",
       "      <td>0.129372</td>\n",
       "      <td>0.010767</td>\n",
       "      <td>-0.017725</td>\n",
       "    </tr>\n",
       "    <tr>\n",
       "      <th>duration</th>\n",
       "      <td>-0.000866</td>\n",
       "      <td>1.000000</td>\n",
       "      <td>-0.071699</td>\n",
       "      <td>-0.047577</td>\n",
       "      <td>0.020640</td>\n",
       "      <td>-0.027968</td>\n",
       "      <td>0.005312</td>\n",
       "      <td>-0.008173</td>\n",
       "      <td>-0.032897</td>\n",
       "      <td>-0.044703</td>\n",
       "    </tr>\n",
       "    <tr>\n",
       "      <th>campaign</th>\n",
       "      <td>0.004594</td>\n",
       "      <td>-0.071699</td>\n",
       "      <td>1.000000</td>\n",
       "      <td>0.052584</td>\n",
       "      <td>-0.079141</td>\n",
       "      <td>0.150754</td>\n",
       "      <td>0.127836</td>\n",
       "      <td>-0.013733</td>\n",
       "      <td>0.135133</td>\n",
       "      <td>0.144095</td>\n",
       "    </tr>\n",
       "    <tr>\n",
       "      <th>pdays</th>\n",
       "      <td>-0.034369</td>\n",
       "      <td>-0.047577</td>\n",
       "      <td>0.052584</td>\n",
       "      <td>1.000000</td>\n",
       "      <td>-0.587514</td>\n",
       "      <td>0.271004</td>\n",
       "      <td>0.078889</td>\n",
       "      <td>-0.091342</td>\n",
       "      <td>0.296899</td>\n",
       "      <td>0.372605</td>\n",
       "    </tr>\n",
       "    <tr>\n",
       "      <th>previous</th>\n",
       "      <td>0.024365</td>\n",
       "      <td>0.020640</td>\n",
       "      <td>-0.079141</td>\n",
       "      <td>-0.587514</td>\n",
       "      <td>1.000000</td>\n",
       "      <td>-0.420489</td>\n",
       "      <td>-0.203130</td>\n",
       "      <td>-0.050936</td>\n",
       "      <td>-0.454494</td>\n",
       "      <td>-0.501333</td>\n",
       "    </tr>\n",
       "    <tr>\n",
       "      <th>emp.var.rate</th>\n",
       "      <td>-0.000371</td>\n",
       "      <td>-0.027968</td>\n",
       "      <td>0.150754</td>\n",
       "      <td>0.271004</td>\n",
       "      <td>-0.420489</td>\n",
       "      <td>1.000000</td>\n",
       "      <td>0.775334</td>\n",
       "      <td>0.196041</td>\n",
       "      <td>0.972245</td>\n",
       "      <td>0.906970</td>\n",
       "    </tr>\n",
       "    <tr>\n",
       "      <th>cons.price.idx</th>\n",
       "      <td>0.000857</td>\n",
       "      <td>0.005312</td>\n",
       "      <td>0.127836</td>\n",
       "      <td>0.078889</td>\n",
       "      <td>-0.203130</td>\n",
       "      <td>0.775334</td>\n",
       "      <td>1.000000</td>\n",
       "      <td>0.058986</td>\n",
       "      <td>0.688230</td>\n",
       "      <td>0.522034</td>\n",
       "    </tr>\n",
       "    <tr>\n",
       "      <th>cons.conf.idx</th>\n",
       "      <td>0.129372</td>\n",
       "      <td>-0.008173</td>\n",
       "      <td>-0.013733</td>\n",
       "      <td>-0.091342</td>\n",
       "      <td>-0.050936</td>\n",
       "      <td>0.196041</td>\n",
       "      <td>0.058986</td>\n",
       "      <td>1.000000</td>\n",
       "      <td>0.277686</td>\n",
       "      <td>0.100513</td>\n",
       "    </tr>\n",
       "    <tr>\n",
       "      <th>euribor3m</th>\n",
       "      <td>0.010767</td>\n",
       "      <td>-0.032897</td>\n",
       "      <td>0.135133</td>\n",
       "      <td>0.296899</td>\n",
       "      <td>-0.454494</td>\n",
       "      <td>0.972245</td>\n",
       "      <td>0.688230</td>\n",
       "      <td>0.277686</td>\n",
       "      <td>1.000000</td>\n",
       "      <td>0.945154</td>\n",
       "    </tr>\n",
       "    <tr>\n",
       "      <th>nr.employed</th>\n",
       "      <td>-0.017725</td>\n",
       "      <td>-0.044703</td>\n",
       "      <td>0.144095</td>\n",
       "      <td>0.372605</td>\n",
       "      <td>-0.501333</td>\n",
       "      <td>0.906970</td>\n",
       "      <td>0.522034</td>\n",
       "      <td>0.100513</td>\n",
       "      <td>0.945154</td>\n",
       "      <td>1.000000</td>\n",
       "    </tr>\n",
       "  </tbody>\n",
       "</table>\n",
       "</div>"
      ],
      "text/plain": [
       "                     age  duration  campaign     pdays  previous  \\\n",
       "age             1.000000 -0.000866  0.004594 -0.034369  0.024365   \n",
       "duration       -0.000866  1.000000 -0.071699 -0.047577  0.020640   \n",
       "campaign        0.004594 -0.071699  1.000000  0.052584 -0.079141   \n",
       "pdays          -0.034369 -0.047577  0.052584  1.000000 -0.587514   \n",
       "previous        0.024365  0.020640 -0.079141 -0.587514  1.000000   \n",
       "emp.var.rate   -0.000371 -0.027968  0.150754  0.271004 -0.420489   \n",
       "cons.price.idx  0.000857  0.005312  0.127836  0.078889 -0.203130   \n",
       "cons.conf.idx   0.129372 -0.008173 -0.013733 -0.091342 -0.050936   \n",
       "euribor3m       0.010767 -0.032897  0.135133  0.296899 -0.454494   \n",
       "nr.employed    -0.017725 -0.044703  0.144095  0.372605 -0.501333   \n",
       "\n",
       "                emp.var.rate  cons.price.idx  cons.conf.idx  euribor3m  \\\n",
       "age                -0.000371        0.000857       0.129372   0.010767   \n",
       "duration           -0.027968        0.005312      -0.008173  -0.032897   \n",
       "campaign            0.150754        0.127836      -0.013733   0.135133   \n",
       "pdays               0.271004        0.078889      -0.091342   0.296899   \n",
       "previous           -0.420489       -0.203130      -0.050936  -0.454494   \n",
       "emp.var.rate        1.000000        0.775334       0.196041   0.972245   \n",
       "cons.price.idx      0.775334        1.000000       0.058986   0.688230   \n",
       "cons.conf.idx       0.196041        0.058986       1.000000   0.277686   \n",
       "euribor3m           0.972245        0.688230       0.277686   1.000000   \n",
       "nr.employed         0.906970        0.522034       0.100513   0.945154   \n",
       "\n",
       "                nr.employed  \n",
       "age               -0.017725  \n",
       "duration          -0.044703  \n",
       "campaign           0.144095  \n",
       "pdays              0.372605  \n",
       "previous          -0.501333  \n",
       "emp.var.rate       0.906970  \n",
       "cons.price.idx     0.522034  \n",
       "cons.conf.idx      0.100513  \n",
       "euribor3m          0.945154  \n",
       "nr.employed        1.000000  "
      ]
     },
     "execution_count": 105,
     "metadata": {},
     "output_type": "execute_result"
    }
   ],
   "source": [
    "bank.corr()"
   ]
  },
  {
   "cell_type": "markdown",
   "metadata": {},
   "source": [
    "#### Plotting highly correlated columns using heatmap:\n",
    "\n",
    "A heatmap contains values representing various shades of the same colour for each value to be plotted. Usually the darker shades of the chart represent higher values than the lighter shade. For a very different value a completely different colour can also be used.\n",
    "\n",
    "The below is a two-dimensional plot of values which are mapped to the columns of the dataset."
   ]
  },
  {
   "cell_type": "code",
   "execution_count": 106,
   "metadata": {},
   "outputs": [
    {
     "data": {
      "image/png": "[encoded data removed]",
      "text/plain": [
       "<Figure size 1152x864 with 2 Axes>"
      ]
     },
     "metadata": {
      "needs_background": "light"
     },
     "output_type": "display_data"
    }
   ],
   "source": [
    "plt.figure(figsize=(16,12))\n",
    "ax=plt.axes()\n",
    "sns.heatmap(data=bank.iloc[:,2:].corr(),annot=True,fmt='.2f',cmap='coolwarm',ax=ax)\n",
    "ax.set_title(\"Heatmap displaying the correlation between columns\")\n",
    "plt.show()"
   ]
  },
  {
   "cell_type": "markdown",
   "metadata": {},
   "source": [
    "#### From the above heatmap, we can conclude the following factors are correlated with the \"nr.employed\" positively:\n",
    "##### r>0:\n",
    "1. \"emp.var.rate\" \n",
    "2. \"cons.price.idx\"\n",
    "3. \"euribor3m\" "
   ]
  },
  {
   "cell_type": "code",
   "execution_count": 107,
   "metadata": {},
   "outputs": [],
   "source": [
    "x = bank[['nr.employed','emp.var.rate','cons.price.idx','euribor3m']]"
   ]
  },
  {
   "cell_type": "markdown",
   "metadata": {},
   "source": [
    "#### Displaying the correlation of the factors that are correlated with \"nr.employed\" positively using heatmap:"
   ]
  },
  {
   "cell_type": "code",
   "execution_count": 108,
   "metadata": {},
   "outputs": [
    {
     "data": {
      "text/plain": [
       "<matplotlib.axes._subplots.AxesSubplot at 0x2c3856ae0b8>"
      ]
     },
     "execution_count": 108,
     "metadata": {},
     "output_type": "execute_result"
    },
    {
     "data": {
      "image/png": "[encoded data removed]",
      "text/plain": [
       "<Figure size 432x288 with 2 Axes>"
      ]
     },
     "metadata": {
      "needs_background": "light"
     },
     "output_type": "display_data"
    }
   ],
   "source": [
    "sns.heatmap(x.corr(), annot=True)"
   ]
  },
  {
   "cell_type": "code",
   "execution_count": 109,
   "metadata": {},
   "outputs": [],
   "source": [
    "import sklearn.utils\n",
    "bank = sklearn.utils.shuffle(bank)"
   ]
  },
  {
   "cell_type": "code",
   "execution_count": 110,
   "metadata": {},
   "outputs": [],
   "source": [
    "# choose attributes which shows relation\n",
    "x = bank[['nr.employed','emp.var.rate','euribor3m']]"
   ]
  },
  {
   "cell_type": "markdown",
   "metadata": {},
   "source": [
    "#### Pairplot\n",
    "Pair plot (also known as scatterplot matrix). In a pair plot, we can see the distribution for both of the single variables and relationships between two variables(Here nr.employed, emp.var.rate, euribor3m). \n",
    "\n",
    "The histogram on the diagonal gives us the distribution of a single variable while the scatter plots on the upper and lower triangles show the relationship between two variables."
   ]
  },
  {
   "cell_type": "code",
   "execution_count": 111,
   "metadata": {},
   "outputs": [
    {
     "data": {
      "text/plain": [
       "<seaborn.axisgrid.PairGrid at 0x2c3840e9940>"
      ]
     },
     "execution_count": 111,
     "metadata": {},
     "output_type": "execute_result"
    },
    {
     "data": {
      "image/png": "[encoded data removed]",
      "text/plain": [
       "<Figure size 540x540 with 12 Axes>"
      ]
     },
     "metadata": {
      "needs_background": "light"
     },
     "output_type": "display_data"
    }
   ],
   "source": [
    "sns.pairplot(x)"
   ]
  },
  {
   "cell_type": "code",
   "execution_count": 112,
   "metadata": {},
   "outputs": [
    {
     "data": {
      "text/html": [
       "<div>\n",
       "<style scoped>\n",
       "    .dataframe tbody tr th:only-of-type {\n",
       "        vertical-align: middle;\n",
       "    }\n",
       "\n",
       "    .dataframe tbody tr th {\n",
       "        vertical-align: top;\n",
       "    }\n",
       "\n",
       "    .dataframe thead th {\n",
       "        text-align: right;\n",
       "    }\n",
       "</style>\n",
       "<table border=\"1\" class=\"dataframe\">\n",
       "  <thead>\n",
       "    <tr style=\"text-align: right;\">\n",
       "      <th></th>\n",
       "      <th>nr.employed</th>\n",
       "      <th>emp.var.rate</th>\n",
       "      <th>euribor3m</th>\n",
       "    </tr>\n",
       "  </thead>\n",
       "  <tbody>\n",
       "    <tr>\n",
       "      <th>nr.employed</th>\n",
       "      <td>1.000000</td>\n",
       "      <td>0.906970</td>\n",
       "      <td>0.945154</td>\n",
       "    </tr>\n",
       "    <tr>\n",
       "      <th>emp.var.rate</th>\n",
       "      <td>0.906970</td>\n",
       "      <td>1.000000</td>\n",
       "      <td>0.972245</td>\n",
       "    </tr>\n",
       "    <tr>\n",
       "      <th>euribor3m</th>\n",
       "      <td>0.945154</td>\n",
       "      <td>0.972245</td>\n",
       "      <td>1.000000</td>\n",
       "    </tr>\n",
       "  </tbody>\n",
       "</table>\n",
       "</div>"
      ],
      "text/plain": [
       "              nr.employed  emp.var.rate  euribor3m\n",
       "nr.employed      1.000000      0.906970   0.945154\n",
       "emp.var.rate     0.906970      1.000000   0.972245\n",
       "euribor3m        0.945154      0.972245   1.000000"
      ]
     },
     "execution_count": 112,
     "metadata": {},
     "output_type": "execute_result"
    }
   ],
   "source": [
    "x.corr()"
   ]
  },
  {
   "cell_type": "code",
   "execution_count": 113,
   "metadata": {},
   "outputs": [],
   "source": [
    "import sklearn.utils\n",
    "bank = sklearn.utils.shuffle(bank)"
   ]
  },
  {
   "cell_type": "markdown",
   "metadata": {},
   "source": [
    "### Data Modeling(Linear Regression and Logistic Regression)\n",
    "\n",
    "Since we know from above given Dataset that columns have non-numeric values , we need to convert it into numeric values, so that we can run different machine learning algorithms on it in order to run analysis. \n",
    "\n",
    "Here, we are using one-hot encoding method"
   ]
  },
  {
   "cell_type": "markdown",
   "metadata": {},
   "source": [
    "### One-hot Encoding\n",
    "\n",
    "- Categorical variables are non-numeric data such as race and gender. To turn these non-numerical data into variables, the simplest thing is to use a technique called one-hot encoding\n",
    "- One hot encoding takes a column which has categorical data, which has been label encoded, and then splits the column into multiple columns. The numbers are replaced by 1s and 0s, depending on which column has what value."
   ]
  },
  {
   "cell_type": "code",
   "execution_count": 114,
   "metadata": {},
   "outputs": [],
   "source": [
    "f1=['job','marital','education','housing','loan','default','y']\n",
    "f2=['age','campaign','emp.var.rate','cons.price.idx','cons.conf.idx','nr.employed']\n",
    "x=bank[f1]\n",
    "x_cat=pd.get_dummies(x)\n",
    "x_num=bank[f2]\n",
    "#print(xtr.head(5))\n",
    "feature_final1=['job','marital','education','housing','loan','default','age','campaign','emp.var.rate','cons.price.idx','cons.conf.idx','y','nr.employed']"
   ]
  },
  {
   "cell_type": "markdown",
   "metadata": {},
   "source": [
    "#### Graphical representation of Categorical features:"
   ]
  },
  {
   "cell_type": "code",
   "execution_count": 115,
   "metadata": {},
   "outputs": [
    {
     "name": "stdout",
     "output_type": "stream",
     "text": [
      "       age  campaign  emp.var.rate  cons.price.idx  cons.conf.idx  \\\n",
      "3421    29         2           1.1          93.994          -36.4   \n",
      "9336    37         1           1.4          94.465          -41.8   \n",
      "27302   29         1          -0.1          93.200          -42.0   \n",
      "39734   92         3          -1.8          93.876          -40.0   \n",
      "3184    49         1           1.1          93.994          -36.4   \n",
      "\n",
      "       nr.employed  job_admin.  job_blue-collar  job_entrepreneur  \\\n",
      "3421        5191.0           0                0                 0   \n",
      "9336        5228.1           0                0                 0   \n",
      "27302       5195.8           1                0                 0   \n",
      "39734       5008.7           0                0                 0   \n",
      "3184        5191.0           0                0                 0   \n",
      "\n",
      "       job_housemaid  ...    education_professional.course  \\\n",
      "3421               0  ...                                0   \n",
      "9336               0  ...                                0   \n",
      "27302              0  ...                                0   \n",
      "39734              0  ...                                0   \n",
      "3184               0  ...                                0   \n",
      "\n",
      "       education_university.degree  housing_no  housing_yes  loan_no  \\\n",
      "3421                             1           1            0        0   \n",
      "9336                             0           0            1        0   \n",
      "27302                            1           0            1        1   \n",
      "39734                            0           1            0        1   \n",
      "3184                             0           0            1        1   \n",
      "\n",
      "       loan_yes  default_no  default_yes  y_no  y_yes  \n",
      "3421          1           1            0     1      0  \n",
      "9336          1           1            0     1      0  \n",
      "27302         0           1            0     1      0  \n",
      "39734         0           0            1     0      1  \n",
      "3184          0           1            0     1      0  \n",
      "\n",
      "[5 rows x 38 columns]\n"
     ]
    }
   ],
   "source": [
    "DF=pd.concat([x_num,x_cat], axis=1)\n",
    "DF1=DF\n",
    "DF2=DF\n",
    "\n",
    "print(DF.head(5))\n"
   ]
  },
  {
   "cell_type": "markdown",
   "metadata": {},
   "source": [
    "### Linear Regression \n",
    "\n",
    "****Linear regression**** is a linear approach to modelling the relationship between a scalar response (or dependent variable) and one or more explanatory variables (or independent variables). \n",
    "The case of one explanatory variable is called ***simple linear regression***. For more than one explanatory variable, the process is called ***multiple linear regression.***"
   ]
  },
  {
   "cell_type": "markdown",
   "metadata": {},
   "source": [
    "#### Linear Regression: Model 1\n",
    "\n",
    "- Target variable - \"number of employees\"\n",
    "- Number of employees is predicted using Linear regression modeling\n",
    "- Dataset is divided into test_data and train_data"
   ]
  },
  {
   "cell_type": "code",
   "execution_count": 116,
   "metadata": {},
   "outputs": [
    {
     "name": "stdout",
     "output_type": "stream",
     "text": [
      "(41188, 38)\n"
     ]
    }
   ],
   "source": [
    "df1_lin=DF1\n",
    "print(df1_lin.shape)"
   ]
  },
  {
   "cell_type": "code",
   "execution_count": 117,
   "metadata": {},
   "outputs": [
    {
     "name": "stdout",
     "output_type": "stream",
     "text": [
      "(41188,)\n",
      "(41188, 38)\n"
     ]
    }
   ],
   "source": [
    "y_label_1=df1_lin['nr.employed']\n",
    "print(y_label_1.shape)\n",
    "print(df1_lin.shape)"
   ]
  },
  {
   "cell_type": "code",
   "execution_count": 118,
   "metadata": {},
   "outputs": [],
   "source": [
    "df1_lin.drop(['nr.employed'],axis=1,inplace=True)"
   ]
  },
  {
   "cell_type": "code",
   "execution_count": 119,
   "metadata": {},
   "outputs": [
    {
     "name": "stdout",
     "output_type": "stream",
     "text": [
      "value of Accuracy_train:  0.922500\n",
      "value of Accuracy_test:  0.920286\n"
     ]
    }
   ],
   "source": [
    "from sklearn.model_selection import train_test_split\n",
    "from sklearn.linear_model import LinearRegression\n",
    "from sklearn.metrics import mean_squared_error, mean_squared_log_error\n",
    "X_train, X_test, y_train, y_test = train_test_split(df1_lin, y_label_1, test_size = 0.3, random_state = 0)\n",
    "\n",
    "model = LinearRegression(normalize=True)\n",
    "model.fit(X_train, y_train)\n",
    "print(\"value of Accuracy_train:%10f\"% model.score(X_train,y_train))\n",
    "print(\"value of Accuracy_test:%10f\"% model.score(X_test,y_test))"
   ]
  },
  {
   "cell_type": "markdown",
   "metadata": {},
   "source": [
    "Accuracy of model 1: 92.26%"
   ]
  },
  {
   "cell_type": "markdown",
   "metadata": {},
   "source": [
    "#### k-fold Cross-validation: \n",
    "\n",
    "- In k-fold cross-validation, the original sample is randomly partitioned into k equal sized subsamples. Of the k subsamples, a single subsample is retained as the validation data for testing the model, and the remaining k − 1 subsamples are used as training data \n",
    "- The cross-validation process is then repeated k times, with each of the k subsamples used exactly once as the validation data. The k results can then be averaged to produce a single estimation. The advantage of this method over repeated random sub-sampling is that all observations are used for both training and validation, and each observation is used for validation exactly once. 10-fold cross-validation is commonly used, but in general k remains an unfixed parameter."
   ]
  },
  {
   "cell_type": "code",
   "execution_count": 120,
   "metadata": {},
   "outputs": [
    {
     "name": "stdout",
     "output_type": "stream",
     "text": [
      "0.9223113721303704\n"
     ]
    }
   ],
   "source": [
    "# performed 5-fold cross validation \n",
    "from sklearn.model_selection import cross_val_score\n",
    "scores = cross_val_score(model, X_train, y_train, cv=5)\n",
    "print (scores.mean())"
   ]
  },
  {
   "cell_type": "markdown",
   "metadata": {},
   "source": [
    "Cross-validation accuracy: 92.24%"
   ]
  },
  {
   "cell_type": "markdown",
   "metadata": {},
   "source": [
    "****Linear Regression is applied on the dataset and Root mean square error and Mean Squared log error are calculated as below:****\n",
    "\n",
    "Root-mean-square error (RMSE) (or sometimes root-mean-squared error) is a frequently used measure of the differences between values (sample or population values) predicted by a model or an estimator and the values observed. The RMSE represents the square root of the second sample moment of the differences between predicted values and observed values or the quadratic mean of these differences. These deviations are called *****residuals***** when the calculations are performed over the data sample that was used for estimation and are called errors (or prediction errors) when computed out-of-sample.\n",
    "\n",
    "Mean Squared Error is a measure of how close a fitted line is to data points. It is the sum, over all the data points, of the square of the difference between the predicted and actual target variables, divided by the number of data points. RMSE is the square root of MSE."
   ]
  },
  {
   "cell_type": "code",
   "execution_count": 121,
   "metadata": {},
   "outputs": [
    {
     "name": "stdout",
     "output_type": "stream",
     "text": [
      "rmse_train: 20.102035481926453 msle_train: 1.5507504775904688e-05\n",
      "rmse_test: 20.426605838374414 msle_test: 1.6030647990785725e-05\n"
     ]
    },
    {
     "data": {
      "image/png": "[encoded data removed]",
      "text/plain": [
       "<Figure size 576x576 with 1 Axes>"
      ]
     },
     "metadata": {
      "needs_background": "light"
     },
     "output_type": "display_data"
    }
   ],
   "source": [
    "train_pred_Y = model.predict(X_train)\n",
    "test_pred_Y = model.predict(X_test)\n",
    "train_pred_Y = pd.Series(train_pred_Y.clip(0, train_pred_Y.max()), index=y_train.index)\n",
    "test_pred_Y = pd.Series(test_pred_Y.clip(0, test_pred_Y.max()), index=y_test.index)\n",
    "\n",
    "rmse_train = np.sqrt(mean_squared_error(train_pred_Y, y_train))\n",
    "msle_train = mean_squared_log_error(train_pred_Y, y_train)\n",
    "rmse_test = np.sqrt(mean_squared_error(test_pred_Y, y_test))\n",
    "msle_test = mean_squared_log_error(test_pred_Y, y_test)\n",
    "\n",
    "print('rmse_train:',rmse_train,'msle_train:',msle_train)\n",
    "print('rmse_test:',rmse_test,'msle_test:',msle_test)\n",
    "plt.figure(figsize=(8,8))\n",
    "plt.scatter(test_pred_Y ,y_test ,alpha = 0.3, color='red')\n",
    "plt.xlabel('Features')\n",
    "plt.ylabel('Number of employees')\n",
    "plt.title('Linear Regression between features and number of employees')\n",
    "plt.show()"
   ]
  },
  {
   "cell_type": "markdown",
   "metadata": {},
   "source": [
    "#### Calculation of metrics affecting linear regression"
   ]
  },
  {
   "cell_type": "markdown",
   "metadata": {},
   "source": [
    "****1. R-squared**** is a statistical measure that’s used to assess the goodness of fit of our regression model."
   ]
  },
  {
   "cell_type": "code",
   "execution_count": 122,
   "metadata": {},
   "outputs": [
    {
     "name": "stdout",
     "output_type": "stream",
     "text": [
      "value of r-squared score:  0.922500\n"
     ]
    }
   ],
   "source": [
    "from sklearn.metrics import r2_score\n",
    "y_pred=model.predict(X_train)\n",
    "\n",
    "print(\"value of r-squared score:%10f\"% r2_score(y_train,y_pred))"
   ]
  },
  {
   "cell_type": "markdown",
   "metadata": {},
   "source": [
    "****2. Summary of OLS Regression : AIC, BIC and adjusted R-squared****"
   ]
  },
  {
   "cell_type": "code",
   "execution_count": 123,
   "metadata": {},
   "outputs": [
    {
     "data": {
      "text/html": [
       "<table class=\"simpletable\">\n",
       "<caption>OLS Regression Results</caption>\n",
       "<tr>\n",
       "  <th>Dep. Variable:</th>       <td>nr.employed</td>   <th>  R-squared:         </th>  <td>   0.923</td>  \n",
       "</tr>\n",
       "<tr>\n",
       "  <th>Model:</th>                   <td>OLS</td>       <th>  Adj. R-squared:    </th>  <td>   0.922</td>  \n",
       "</tr>\n",
       "<tr>\n",
       "  <th>Method:</th>             <td>Least Squares</td>  <th>  F-statistic:       </th>  <td>1.143e+04</td> \n",
       "</tr>\n",
       "<tr>\n",
       "  <th>Date:</th>             <td>Mon, 25 Feb 2019</td> <th>  Prob (F-statistic):</th>   <td>  0.00</td>   \n",
       "</tr>\n",
       "<tr>\n",
       "  <th>Time:</th>                 <td>20:51:08</td>     <th>  Log-Likelihood:    </th> <td>-1.2743e+05</td>\n",
       "</tr>\n",
       "<tr>\n",
       "  <th>No. Observations:</th>      <td> 28831</td>      <th>  AIC:               </th>  <td>2.549e+05</td> \n",
       "</tr>\n",
       "<tr>\n",
       "  <th>Df Residuals:</th>          <td> 28800</td>      <th>  BIC:               </th>  <td>2.552e+05</td> \n",
       "</tr>\n",
       "<tr>\n",
       "  <th>Df Model:</th>              <td>    30</td>      <th>                     </th>      <td> </td>     \n",
       "</tr>\n",
       "<tr>\n",
       "  <th>Covariance Type:</th>      <td>nonrobust</td>    <th>                     </th>      <td> </td>     \n",
       "</tr>\n",
       "</table>\n",
       "<table class=\"simpletable\">\n",
       "<tr>\n",
       "                <td></td>                   <th>coef</th>     <th>std err</th>      <th>t</th>      <th>P>|t|</th>  <th>[0.025</th>    <th>0.975]</th>  \n",
       "</tr>\n",
       "<tr>\n",
       "  <th>age</th>                           <td>   -0.0321</td> <td>    0.015</td> <td>   -2.191</td> <td> 0.028</td> <td>   -0.061</td> <td>   -0.003</td>\n",
       "</tr>\n",
       "<tr>\n",
       "  <th>campaign</th>                      <td>    0.1788</td> <td>    0.044</td> <td>    4.053</td> <td> 0.000</td> <td>    0.092</td> <td>    0.265</td>\n",
       "</tr>\n",
       "<tr>\n",
       "  <th>emp.var.rate</th>                  <td>   59.0361</td> <td>    0.134</td> <td>  440.285</td> <td> 0.000</td> <td>   58.773</td> <td>   59.299</td>\n",
       "</tr>\n",
       "<tr>\n",
       "  <th>cons.price.idx</th>                <td>  -59.1505</td> <td>    0.338</td> <td> -174.745</td> <td> 0.000</td> <td>  -59.814</td> <td>  -58.487</td>\n",
       "</tr>\n",
       "<tr>\n",
       "  <th>cons.conf.idx</th>                 <td>   -1.8364</td> <td>    0.027</td> <td>  -67.262</td> <td> 0.000</td> <td>   -1.890</td> <td>   -1.783</td>\n",
       "</tr>\n",
       "<tr>\n",
       "  <th>job_admin.</th>                    <td>  358.9218</td> <td>    1.102</td> <td>  325.697</td> <td> 0.000</td> <td>  356.762</td> <td>  361.082</td>\n",
       "</tr>\n",
       "<tr>\n",
       "  <th>job_blue-collar</th>               <td>  360.6388</td> <td>    1.118</td> <td>  322.492</td> <td> 0.000</td> <td>  358.447</td> <td>  362.831</td>\n",
       "</tr>\n",
       "<tr>\n",
       "  <th>job_entrepreneur</th>              <td>  364.9382</td> <td>    1.228</td> <td>  297.189</td> <td> 0.000</td> <td>  362.531</td> <td>  367.345</td>\n",
       "</tr>\n",
       "<tr>\n",
       "  <th>job_housemaid</th>                 <td>  358.8964</td> <td>    1.282</td> <td>  279.909</td> <td> 0.000</td> <td>  356.383</td> <td>  361.410</td>\n",
       "</tr>\n",
       "<tr>\n",
       "  <th>job_management</th>                <td>  362.5008</td> <td>    1.162</td> <td>  311.876</td> <td> 0.000</td> <td>  360.223</td> <td>  364.779</td>\n",
       "</tr>\n",
       "<tr>\n",
       "  <th>job_retired</th>                   <td>  357.6085</td> <td>    1.256</td> <td>  284.612</td> <td> 0.000</td> <td>  355.146</td> <td>  360.071</td>\n",
       "</tr>\n",
       "<tr>\n",
       "  <th>job_self-employed</th>             <td>  361.7753</td> <td>    1.227</td> <td>  294.813</td> <td> 0.000</td> <td>  359.370</td> <td>  364.181</td>\n",
       "</tr>\n",
       "<tr>\n",
       "  <th>job_services</th>                  <td>  360.2810</td> <td>    1.143</td> <td>  315.105</td> <td> 0.000</td> <td>  358.040</td> <td>  362.522</td>\n",
       "</tr>\n",
       "<tr>\n",
       "  <th>job_student</th>                   <td>  355.1758</td> <td>    1.383</td> <td>  256.860</td> <td> 0.000</td> <td>  352.465</td> <td>  357.886</td>\n",
       "</tr>\n",
       "<tr>\n",
       "  <th>job_technician</th>                <td>  357.3539</td> <td>    1.104</td> <td>  323.563</td> <td> 0.000</td> <td>  355.189</td> <td>  359.519</td>\n",
       "</tr>\n",
       "<tr>\n",
       "  <th>job_unemployed</th>                <td>  361.7810</td> <td>    1.294</td> <td>  279.687</td> <td> 0.000</td> <td>  359.246</td> <td>  364.316</td>\n",
       "</tr>\n",
       "<tr>\n",
       "  <th>job_unknown</th>                   <td>  361.4463</td> <td>    1.637</td> <td>  220.841</td> <td> 0.000</td> <td>  358.238</td> <td>  364.654</td>\n",
       "</tr>\n",
       "<tr>\n",
       "  <th>marital_divorced</th>              <td> 1080.7331</td> <td>    3.282</td> <td>  329.322</td> <td> 0.000</td> <td> 1074.301</td> <td> 1087.165</td>\n",
       "</tr>\n",
       "<tr>\n",
       "  <th>marital_married</th>               <td> 1080.2905</td> <td>    3.265</td> <td>  330.821</td> <td> 0.000</td> <td> 1073.890</td> <td> 1086.691</td>\n",
       "</tr>\n",
       "<tr>\n",
       "  <th>marital_single</th>                <td> 1079.4166</td> <td>    3.272</td> <td>  329.869</td> <td> 0.000</td> <td> 1073.003</td> <td> 1085.830</td>\n",
       "</tr>\n",
       "<tr>\n",
       "  <th>marital_unknown</th>               <td> 1080.8776</td> <td>    3.815</td> <td>  283.288</td> <td> 0.000</td> <td> 1073.399</td> <td> 1088.356</td>\n",
       "</tr>\n",
       "<tr>\n",
       "  <th>education_basic.4y</th>            <td>  539.3771</td> <td>    1.782</td> <td>  302.683</td> <td> 0.000</td> <td>  535.884</td> <td>  542.870</td>\n",
       "</tr>\n",
       "<tr>\n",
       "  <th>education_basic.6y</th>            <td>  540.2402</td> <td>    1.801</td> <td>  299.948</td> <td> 0.000</td> <td>  536.710</td> <td>  543.770</td>\n",
       "</tr>\n",
       "<tr>\n",
       "  <th>education_basic.9y</th>            <td>  540.1406</td> <td>    1.763</td> <td>  306.304</td> <td> 0.000</td> <td>  536.684</td> <td>  543.597</td>\n",
       "</tr>\n",
       "<tr>\n",
       "  <th>education_high.school</th>         <td>  540.1313</td> <td>    1.760</td> <td>  306.951</td> <td> 0.000</td> <td>  536.682</td> <td>  543.580</td>\n",
       "</tr>\n",
       "<tr>\n",
       "  <th>education_illiterate</th>          <td>  544.1148</td> <td>    4.983</td> <td>  109.192</td> <td> 0.000</td> <td>  534.348</td> <td>  553.882</td>\n",
       "</tr>\n",
       "<tr>\n",
       "  <th>education_not.known</th>           <td>  539.8296</td> <td>    1.832</td> <td>  294.721</td> <td> 0.000</td> <td>  536.239</td> <td>  543.420</td>\n",
       "</tr>\n",
       "<tr>\n",
       "  <th>education_professional.course</th> <td>  539.0915</td> <td>    1.772</td> <td>  304.306</td> <td> 0.000</td> <td>  535.619</td> <td>  542.564</td>\n",
       "</tr>\n",
       "<tr>\n",
       "  <th>education_university.degree</th>   <td>  538.3927</td> <td>    1.740</td> <td>  309.402</td> <td> 0.000</td> <td>  534.982</td> <td>  541.803</td>\n",
       "</tr>\n",
       "<tr>\n",
       "  <th>housing_no</th>                    <td> 2161.2682</td> <td>    6.425</td> <td>  336.385</td> <td> 0.000</td> <td> 2148.675</td> <td> 2173.861</td>\n",
       "</tr>\n",
       "<tr>\n",
       "  <th>housing_yes</th>                   <td> 2160.0496</td> <td>    6.413</td> <td>  336.846</td> <td> 0.000</td> <td> 2147.481</td> <td> 2172.619</td>\n",
       "</tr>\n",
       "<tr>\n",
       "  <th>loan_no</th>                       <td> 2160.5883</td> <td>    6.418</td> <td>  336.626</td> <td> 0.000</td> <td> 2148.008</td> <td> 2173.169</td>\n",
       "</tr>\n",
       "<tr>\n",
       "  <th>loan_yes</th>                      <td> 2160.7295</td> <td>    6.421</td> <td>  336.523</td> <td> 0.000</td> <td> 2148.145</td> <td> 2173.314</td>\n",
       "</tr>\n",
       "<tr>\n",
       "  <th>default_no</th>                    <td> 2160.1824</td> <td>    6.418</td> <td>  336.558</td> <td> 0.000</td> <td> 2147.602</td> <td> 2172.763</td>\n",
       "</tr>\n",
       "<tr>\n",
       "  <th>default_yes</th>                   <td> 2161.1354</td> <td>    6.421</td> <td>  336.591</td> <td> 0.000</td> <td> 2148.551</td> <td> 2173.720</td>\n",
       "</tr>\n",
       "<tr>\n",
       "  <th>y_no</th>                          <td> 2163.6191</td> <td>    6.385</td> <td>  338.844</td> <td> 0.000</td> <td> 2151.104</td> <td> 2176.135</td>\n",
       "</tr>\n",
       "<tr>\n",
       "  <th>y_yes</th>                         <td> 2157.6987</td> <td>    6.456</td> <td>  334.207</td> <td> 0.000</td> <td> 2145.044</td> <td> 2170.353</td>\n",
       "</tr>\n",
       "</table>\n",
       "<table class=\"simpletable\">\n",
       "<tr>\n",
       "  <th>Omnibus:</th>       <td>3671.906</td> <th>  Durbin-Watson:     </th> <td>   2.009</td> \n",
       "</tr>\n",
       "<tr>\n",
       "  <th>Prob(Omnibus):</th>  <td> 0.000</td>  <th>  Jarque-Bera (JB):  </th> <td>19686.164</td>\n",
       "</tr>\n",
       "<tr>\n",
       "  <th>Skew:</th>           <td>-0.500</td>  <th>  Prob(JB):          </th> <td>    0.00</td> \n",
       "</tr>\n",
       "<tr>\n",
       "  <th>Kurtosis:</th>       <td> 6.923</td>  <th>  Cond. No.          </th> <td>1.11e+16</td> \n",
       "</tr>\n",
       "</table><br/><br/>Warnings:<br/>[1] Standard Errors assume that the covariance matrix of the errors is correctly specified.<br/>[2] The smallest eigenvalue is 2.8e-24. This might indicate that there are<br/>strong multicollinearity problems or that the design matrix is singular."
      ],
      "text/plain": [
       "<class 'statsmodels.iolib.summary.Summary'>\n",
       "\"\"\"\n",
       "                            OLS Regression Results                            \n",
       "==============================================================================\n",
       "Dep. Variable:            nr.employed   R-squared:                       0.923\n",
       "Model:                            OLS   Adj. R-squared:                  0.922\n",
       "Method:                 Least Squares   F-statistic:                 1.143e+04\n",
       "Date:                Mon, 25 Feb 2019   Prob (F-statistic):               0.00\n",
       "Time:                        20:51:08   Log-Likelihood:            -1.2743e+05\n",
       "No. Observations:               28831   AIC:                         2.549e+05\n",
       "Df Residuals:                   28800   BIC:                         2.552e+05\n",
       "Df Model:                          30                                         \n",
       "Covariance Type:            nonrobust                                         \n",
       "=================================================================================================\n",
       "                                    coef    std err          t      P>|t|      [0.025      0.975]\n",
       "-------------------------------------------------------------------------------------------------\n",
       "age                              -0.0321      0.015     -2.191      0.028      -0.061      -0.003\n",
       "campaign                          0.1788      0.044      4.053      0.000       0.092       0.265\n",
       "emp.var.rate                     59.0361      0.134    440.285      0.000      58.773      59.299\n",
       "cons.price.idx                  -59.1505      0.338   -174.745      0.000     -59.814     -58.487\n",
       "cons.conf.idx                    -1.8364      0.027    -67.262      0.000      -1.890      -1.783\n",
       "job_admin.                      358.9218      1.102    325.697      0.000     356.762     361.082\n",
       "job_blue-collar                 360.6388      1.118    322.492      0.000     358.447     362.831\n",
       "job_entrepreneur                364.9382      1.228    297.189      0.000     362.531     367.345\n",
       "job_housemaid                   358.8964      1.282    279.909      0.000     356.383     361.410\n",
       "job_management                  362.5008      1.162    311.876      0.000     360.223     364.779\n",
       "job_retired                     357.6085      1.256    284.612      0.000     355.146     360.071\n",
       "job_self-employed               361.7753      1.227    294.813      0.000     359.370     364.181\n",
       "job_services                    360.2810      1.143    315.105      0.000     358.040     362.522\n",
       "job_student                     355.1758      1.383    256.860      0.000     352.465     357.886\n",
       "job_technician                  357.3539      1.104    323.563      0.000     355.189     359.519\n",
       "job_unemployed                  361.7810      1.294    279.687      0.000     359.246     364.316\n",
       "job_unknown                     361.4463      1.637    220.841      0.000     358.238     364.654\n",
       "marital_divorced               1080.7331      3.282    329.322      0.000    1074.301    1087.165\n",
       "marital_married                1080.2905      3.265    330.821      0.000    1073.890    1086.691\n",
       "marital_single                 1079.4166      3.272    329.869      0.000    1073.003    1085.830\n",
       "marital_unknown                1080.8776      3.815    283.288      0.000    1073.399    1088.356\n",
       "education_basic.4y              539.3771      1.782    302.683      0.000     535.884     542.870\n",
       "education_basic.6y              540.2402      1.801    299.948      0.000     536.710     543.770\n",
       "education_basic.9y              540.1406      1.763    306.304      0.000     536.684     543.597\n",
       "education_high.school           540.1313      1.760    306.951      0.000     536.682     543.580\n",
       "education_illiterate            544.1148      4.983    109.192      0.000     534.348     553.882\n",
       "education_not.known             539.8296      1.832    294.721      0.000     536.239     543.420\n",
       "education_professional.course   539.0915      1.772    304.306      0.000     535.619     542.564\n",
       "education_university.degree     538.3927      1.740    309.402      0.000     534.982     541.803\n",
       "housing_no                     2161.2682      6.425    336.385      0.000    2148.675    2173.861\n",
       "housing_yes                    2160.0496      6.413    336.846      0.000    2147.481    2172.619\n",
       "loan_no                        2160.5883      6.418    336.626      0.000    2148.008    2173.169\n",
       "loan_yes                       2160.7295      6.421    336.523      0.000    2148.145    2173.314\n",
       "default_no                     2160.1824      6.418    336.558      0.000    2147.602    2172.763\n",
       "default_yes                    2161.1354      6.421    336.591      0.000    2148.551    2173.720\n",
       "y_no                           2163.6191      6.385    338.844      0.000    2151.104    2176.135\n",
       "y_yes                          2157.6987      6.456    334.207      0.000    2145.044    2170.353\n",
       "==============================================================================\n",
       "Omnibus:                     3671.906   Durbin-Watson:                   2.009\n",
       "Prob(Omnibus):                  0.000   Jarque-Bera (JB):            19686.164\n",
       "Skew:                          -0.500   Prob(JB):                         0.00\n",
       "Kurtosis:                       6.923   Cond. No.                     1.11e+16\n",
       "==============================================================================\n",
       "\n",
       "Warnings:\n",
       "[1] Standard Errors assume that the covariance matrix of the errors is correctly specified.\n",
       "[2] The smallest eigenvalue is 2.8e-24. This might indicate that there are\n",
       "strong multicollinearity problems or that the design matrix is singular.\n",
       "\"\"\""
      ]
     },
     "execution_count": 123,
     "metadata": {},
     "output_type": "execute_result"
    }
   ],
   "source": [
    "from statsmodels.regression.linear_model import OLS\n",
    "from statsmodels.tools import add_constant\n",
    "regr = OLS(y_train, X_train).fit()\n",
    "regr.summary()\n",
    "\n",
    "#https://www.ritchieng.com/machine-learning-evaluate-linear-regression-model/"
   ]
  },
  {
   "cell_type": "markdown",
   "metadata": {},
   "source": [
    "### Conclusion from model 1\n",
    "\n",
    "Is the relationship significant?   \n",
    "Does the model make sense? Interpret the meaning of each independent variable.   \n",
    "Cross-validate the model. How well did it do? \n",
    "\n",
    "\n",
    "1. We can conclude that the model captures 92% variance of dependent variable, which is good and hence model is significant\n",
    "\n",
    "2. Features like Age, campaign, marital, job, housing, loan, default, etc. have small p-values, whereas Education have a large p-value\n",
    " - Reject the null hypothesis for Age, campaign, marital, job, housing, loan and default. Hence, there is association between      features and Number of employees\n",
    " - Fail to reject the null hypothesis for Education. Hence, there is no association between Education and Number of Employees\n",
    "\n",
    "3. The model has cross-validated and it did pretty well with accuracy of 92%\n",
    "\n",
    "This model has a R-squared (0.922)"
   ]
  },
  {
   "cell_type": "markdown",
   "metadata": {},
   "source": [
    "#### Regression Model assumptions:"
   ]
  },
  {
   "cell_type": "markdown",
   "metadata": {},
   "source": [
    "****1. Linearity & Equal variance****\n",
    "\n",
    "Both can be tested by plotting residuals vs. predictions, where residuals are prediction errors."
   ]
  },
  {
   "cell_type": "code",
   "execution_count": 124,
   "metadata": {},
   "outputs": [
    {
     "data": {
      "image/png": "[encoded data removed]",
      "text/plain": [
       "<Figure size 576x216 with 1 Axes>"
      ]
     },
     "metadata": {
      "needs_background": "light"
     },
     "output_type": "display_data"
    }
   ],
   "source": [
    "fig,ax=plt.subplots(figsize=(8,3))\n",
    "residual=y_train-y_pred\n",
    "_=ax.scatter(residual,y_pred)"
   ]
  },
  {
   "cell_type": "markdown",
   "metadata": {},
   "source": [
    "It seems like the corresponding residual plot is reasonably random. "
   ]
  },
  {
   "cell_type": "markdown",
   "metadata": {},
   "source": [
    "****2. To confirm that, let’s go with a hypothesis test, Breusch-Pagan test, for linearity****"
   ]
  },
  {
   "cell_type": "code",
   "execution_count": 125,
   "metadata": {},
   "outputs": [
    {
     "data": {
      "text/plain": [
       "(0.0, 0.0)"
      ]
     },
     "execution_count": 125,
     "metadata": {},
     "output_type": "execute_result"
    }
   ],
   "source": [
    "import statsmodels.stats.api as sms\n",
    "_, pval, __, f_pval = statsmodels.stats.diagnostic.het_breuschpagan(residual, X_train)\n",
    "pval, f_pval"
   ]
  },
  {
   "cell_type": "markdown",
   "metadata": {},
   "source": [
    "Small p-value (pval below) shows that there is violation of homoscedasticity.\n",
    "Usually assumption violations are not independent of each other. Having one violations may lead to another. In this case, we see that both linearity and homoscedasticity are not met."
   ]
  },
  {
   "cell_type": "markdown",
   "metadata": {},
   "source": [
    "****3. Normality****\n",
    "\n",
    "We apply normality probability plot to assess how the data (error) depart from normality visually."
   ]
  },
  {
   "cell_type": "code",
   "execution_count": 126,
   "metadata": {},
   "outputs": [
    {
     "data": {
      "text/plain": [
       "0.8910927986721315"
      ]
     },
     "execution_count": 126,
     "metadata": {},
     "output_type": "execute_result"
    },
    {
     "data": {
      "image/png": "[encoded data removed]",
      "text/plain": [
       "<Figure size 576x216 with 1 Axes>"
      ]
     },
     "metadata": {
      "needs_background": "light"
     },
     "output_type": "display_data"
    }
   ],
   "source": [
    "import scipy as sp\n",
    "fig,ax=plt.subplots(figsize=(8,3))\n",
    "_,(_,_,r)=sp.stats.probplot(residual,plot=ax, fit=True)\n",
    "r**2"
   ]
  },
  {
   "cell_type": "markdown",
   "metadata": {},
   "source": [
    "The good fit indicates that normality is a reasonable approximation"
   ]
  },
  {
   "cell_type": "markdown",
   "metadata": {},
   "source": [
    "#### Linear Regression - Model 2"
   ]
  },
  {
   "cell_type": "code",
   "execution_count": 127,
   "metadata": {},
   "outputs": [],
   "source": [
    "df2_lin=DF2.drop(['loan_no', 'loan_yes','cons.price.idx','cons.conf.idx'],axis=1, inplace=False)"
   ]
  },
  {
   "cell_type": "code",
   "execution_count": 128,
   "metadata": {},
   "outputs": [
    {
     "name": "stdout",
     "output_type": "stream",
     "text": [
      "(41188,)\n",
      "(41188, 33)\n"
     ]
    }
   ],
   "source": [
    "y_label_2=bank['nr.employed']\n",
    "print(y_label_2.shape)\n",
    "print(df2_lin.shape)"
   ]
  },
  {
   "cell_type": "code",
   "execution_count": 129,
   "metadata": {},
   "outputs": [
    {
     "name": "stdout",
     "output_type": "stream",
     "text": [
      "value of Accuracy_train:  0.836262\n",
      "value of Accuracy_test:  0.826938\n"
     ]
    }
   ],
   "source": [
    "from sklearn.model_selection import train_test_split\n",
    "from sklearn.linear_model import LinearRegression\n",
    "from sklearn.metrics import mean_squared_error, mean_squared_log_error\n",
    "X_train, X_test, y_train, y_test = train_test_split(df2_lin, y_label_2, test_size = 0.3, random_state = 0)\n",
    "\n",
    "model = LinearRegression(normalize=True)\n",
    "model.fit(X_train, y_train)\n",
    "\n",
    "print(\"value of Accuracy_train:%10f\"% model.score(X_train,y_train))\n",
    "print(\"value of Accuracy_test:%10f\"% model.score(X_test,y_test))"
   ]
  },
  {
   "cell_type": "markdown",
   "metadata": {},
   "source": [
    "Accuracy of model 2: 83.4%"
   ]
  },
  {
   "cell_type": "code",
   "execution_count": 130,
   "metadata": {},
   "outputs": [
    {
     "name": "stdout",
     "output_type": "stream",
     "text": [
      "0.8358876645420704\n"
     ]
    }
   ],
   "source": [
    "# performed 5-fold cross validation \n",
    "from sklearn.model_selection import cross_val_score\n",
    "scores = cross_val_score(model, X_train, y_train, cv=5)\n",
    "print (scores.mean())"
   ]
  },
  {
   "cell_type": "markdown",
   "metadata": {},
   "source": [
    "Cross-validation accuracy: 83.28%"
   ]
  },
  {
   "cell_type": "code",
   "execution_count": 131,
   "metadata": {},
   "outputs": [
    {
     "name": "stdout",
     "output_type": "stream",
     "text": [
      "rmse_train: 29.21889561636613 msle_train: 3.310564986461693e-05\n",
      "rmse_test: 30.097522697812256 msle_test: 3.516039953152383e-05\n"
     ]
    },
    {
     "data": {
      "image/png": "[encoded data removed]",
      "text/plain": [
       "<Figure size 576x576 with 1 Axes>"
      ]
     },
     "metadata": {
      "needs_background": "light"
     },
     "output_type": "display_data"
    }
   ],
   "source": [
    "train_pred_Y = model.predict(X_train)\n",
    "test_pred_Y = model.predict(X_test)\n",
    "train_pred_Y = pd.Series(train_pred_Y.clip(0, train_pred_Y.max()), index=y_train.index)\n",
    "test_pred_Y = pd.Series(test_pred_Y.clip(0, test_pred_Y.max()), index=y_test.index)\n",
    "\n",
    "rmse_train = np.sqrt(mean_squared_error(train_pred_Y, y_train))\n",
    "msle_train = mean_squared_log_error(abs(train_pred_Y), abs(y_train))\n",
    "rmse_test = np.sqrt(mean_squared_error(test_pred_Y, y_test))\n",
    "msle_test = mean_squared_log_error(abs(test_pred_Y), abs(y_test))\n",
    "\n",
    "print('rmse_train:',rmse_train,'msle_train:',msle_train)\n",
    "print('rmse_test:',rmse_test,'msle_test:',msle_test)\n",
    "plt.figure(figsize=(8,8))\n",
    "plt.scatter(test_pred_Y ,y_test ,alpha = 0.3, color='red')\n",
    "plt.xlabel('Features')\n",
    "plt.ylabel('Number of employees')\n",
    "plt.title(\"Linear Prediction of number of employees against features\")\n",
    "plt.show()"
   ]
  },
  {
   "cell_type": "markdown",
   "metadata": {},
   "source": [
    "#### Calculation of metrics affecting linear regression\n",
    "\n",
    "****1. R-square****"
   ]
  },
  {
   "cell_type": "code",
   "execution_count": 132,
   "metadata": {},
   "outputs": [
    {
     "name": "stdout",
     "output_type": "stream",
     "text": [
      "value of r-squared score:  0.836262\n"
     ]
    }
   ],
   "source": [
    "from sklearn.metrics import r2_score\n",
    "y_pred=model.predict(X_train)\n",
    "\n",
    "print(\"value of r-squared score:%10f\"% r2_score(y_train,y_pred))"
   ]
  },
  {
   "cell_type": "markdown",
   "metadata": {},
   "source": [
    "****2. Summary of OLS Regression : AIC, BIC and adjusted R-squared****"
   ]
  },
  {
   "cell_type": "code",
   "execution_count": 133,
   "metadata": {},
   "outputs": [
    {
     "data": {
      "text/html": [
       "<table class=\"simpletable\">\n",
       "<caption>OLS Regression Results</caption>\n",
       "<tr>\n",
       "  <th>Dep. Variable:</th>       <td>nr.employed</td>   <th>  R-squared:         </th>  <td>   0.836</td>  \n",
       "</tr>\n",
       "<tr>\n",
       "  <th>Model:</th>                   <td>OLS</td>       <th>  Adj. R-squared:    </th>  <td>   0.836</td>  \n",
       "</tr>\n",
       "<tr>\n",
       "  <th>Method:</th>             <td>Least Squares</td>  <th>  F-statistic:       </th>  <td>   5448.</td>  \n",
       "</tr>\n",
       "<tr>\n",
       "  <th>Date:</th>             <td>Mon, 25 Feb 2019</td> <th>  Prob (F-statistic):</th>   <td>  0.00</td>   \n",
       "</tr>\n",
       "<tr>\n",
       "  <th>Time:</th>                 <td>20:51:16</td>     <th>  Log-Likelihood:    </th> <td>-1.3821e+05</td>\n",
       "</tr>\n",
       "<tr>\n",
       "  <th>No. Observations:</th>      <td> 28831</td>      <th>  AIC:               </th>  <td>2.765e+05</td> \n",
       "</tr>\n",
       "<tr>\n",
       "  <th>Df Residuals:</th>          <td> 28803</td>      <th>  BIC:               </th>  <td>2.767e+05</td> \n",
       "</tr>\n",
       "<tr>\n",
       "  <th>Df Model:</th>              <td>    27</td>      <th>                     </th>      <td> </td>     \n",
       "</tr>\n",
       "<tr>\n",
       "  <th>Covariance Type:</th>      <td>nonrobust</td>    <th>                     </th>      <td> </td>     \n",
       "</tr>\n",
       "</table>\n",
       "<table class=\"simpletable\">\n",
       "<tr>\n",
       "                <td></td>                   <th>coef</th>     <th>std err</th>      <th>t</th>      <th>P>|t|</th>  <th>[0.025</th>    <th>0.975]</th>  \n",
       "</tr>\n",
       "<tr>\n",
       "  <th>age</th>                           <td>   -0.0990</td> <td>    0.021</td> <td>   -4.666</td> <td> 0.000</td> <td>   -0.141</td> <td>   -0.057</td>\n",
       "</tr>\n",
       "<tr>\n",
       "  <th>campaign</th>                      <td>    0.1534</td> <td>    0.064</td> <td>    2.395</td> <td> 0.017</td> <td>    0.028</td> <td>    0.279</td>\n",
       "</tr>\n",
       "<tr>\n",
       "  <th>emp.var.rate</th>                  <td>   40.0860</td> <td>    0.119</td> <td>  335.462</td> <td> 0.000</td> <td>   39.852</td> <td>   40.320</td>\n",
       "</tr>\n",
       "<tr>\n",
       "  <th>job_admin.</th>                    <td>  220.5717</td> <td>    0.454</td> <td>  486.198</td> <td> 0.000</td> <td>  219.682</td> <td>  221.461</td>\n",
       "</tr>\n",
       "<tr>\n",
       "  <th>job_blue-collar</th>               <td>  222.1376</td> <td>    0.497</td> <td>  446.597</td> <td> 0.000</td> <td>  221.163</td> <td>  223.113</td>\n",
       "</tr>\n",
       "<tr>\n",
       "  <th>job_entrepreneur</th>              <td>  226.1113</td> <td>    0.881</td> <td>  256.737</td> <td> 0.000</td> <td>  224.385</td> <td>  227.838</td>\n",
       "</tr>\n",
       "<tr>\n",
       "  <th>job_housemaid</th>                 <td>  220.2376</td> <td>    1.056</td> <td>  208.508</td> <td> 0.000</td> <td>  218.167</td> <td>  222.308</td>\n",
       "</tr>\n",
       "<tr>\n",
       "  <th>job_management</th>                <td>  223.8820</td> <td>    0.685</td> <td>  326.916</td> <td> 0.000</td> <td>  222.540</td> <td>  225.224</td>\n",
       "</tr>\n",
       "<tr>\n",
       "  <th>job_retired</th>                   <td>  213.7668</td> <td>    0.933</td> <td>  229.035</td> <td> 0.000</td> <td>  211.937</td> <td>  215.596</td>\n",
       "</tr>\n",
       "<tr>\n",
       "  <th>job_self-employed</th>             <td>  223.2830</td> <td>    0.898</td> <td>  248.613</td> <td> 0.000</td> <td>  221.523</td> <td>  225.043</td>\n",
       "</tr>\n",
       "<tr>\n",
       "  <th>job_services</th>                  <td>  221.9591</td> <td>    0.616</td> <td>  360.087</td> <td> 0.000</td> <td>  220.751</td> <td>  223.167</td>\n",
       "</tr>\n",
       "<tr>\n",
       "  <th>job_student</th>                   <td>  205.2208</td> <td>    1.193</td> <td>  172.000</td> <td> 0.000</td> <td>  202.882</td> <td>  207.559</td>\n",
       "</tr>\n",
       "<tr>\n",
       "  <th>job_technician</th>                <td>  221.5993</td> <td>    0.540</td> <td>  410.306</td> <td> 0.000</td> <td>  220.541</td> <td>  222.658</td>\n",
       "</tr>\n",
       "<tr>\n",
       "  <th>job_unemployed</th>                <td>  219.2721</td> <td>    1.043</td> <td>  210.310</td> <td> 0.000</td> <td>  217.229</td> <td>  221.316</td>\n",
       "</tr>\n",
       "<tr>\n",
       "  <th>job_unknown</th>                   <td>  217.2445</td> <td>    1.781</td> <td>  121.950</td> <td> 0.000</td> <td>  213.753</td> <td>  220.736</td>\n",
       "</tr>\n",
       "<tr>\n",
       "  <th>marital_divorced</th>              <td>  658.8302</td> <td>    0.975</td> <td>  675.992</td> <td> 0.000</td> <td>  656.920</td> <td>  660.741</td>\n",
       "</tr>\n",
       "<tr>\n",
       "  <th>marital_married</th>               <td>  658.6812</td> <td>    0.899</td> <td>  732.552</td> <td> 0.000</td> <td>  656.919</td> <td>  660.444</td>\n",
       "</tr>\n",
       "<tr>\n",
       "  <th>marital_single</th>                <td>  657.2335</td> <td>    0.907</td> <td>  724.615</td> <td> 0.000</td> <td>  655.456</td> <td>  659.011</td>\n",
       "</tr>\n",
       "<tr>\n",
       "  <th>marital_unknown</th>               <td>  660.5409</td> <td>    3.041</td> <td>  217.178</td> <td> 0.000</td> <td>  654.579</td> <td>  666.502</td>\n",
       "</tr>\n",
       "<tr>\n",
       "  <th>education_basic.4y</th>            <td>  325.8250</td> <td>    1.073</td> <td>  303.657</td> <td> 0.000</td> <td>  323.722</td> <td>  327.928</td>\n",
       "</tr>\n",
       "<tr>\n",
       "  <th>education_basic.6y</th>            <td>  327.8559</td> <td>    1.148</td> <td>  285.690</td> <td> 0.000</td> <td>  325.607</td> <td>  330.105</td>\n",
       "</tr>\n",
       "<tr>\n",
       "  <th>education_basic.9y</th>            <td>  328.1488</td> <td>    1.025</td> <td>  320.221</td> <td> 0.000</td> <td>  326.140</td> <td>  330.157</td>\n",
       "</tr>\n",
       "<tr>\n",
       "  <th>education_high.school</th>         <td>  327.7376</td> <td>    1.006</td> <td>  325.849</td> <td> 0.000</td> <td>  325.766</td> <td>  329.709</td>\n",
       "</tr>\n",
       "<tr>\n",
       "  <th>education_illiterate</th>          <td>  346.2294</td> <td>    6.906</td> <td>   50.132</td> <td> 0.000</td> <td>  332.693</td> <td>  359.766</td>\n",
       "</tr>\n",
       "<tr>\n",
       "  <th>education_not.known</th>           <td>  323.6525</td> <td>    1.202</td> <td>  269.299</td> <td> 0.000</td> <td>  321.297</td> <td>  326.008</td>\n",
       "</tr>\n",
       "<tr>\n",
       "  <th>education_professional.course</th> <td>  327.2333</td> <td>    1.065</td> <td>  307.198</td> <td> 0.000</td> <td>  325.145</td> <td>  329.321</td>\n",
       "</tr>\n",
       "<tr>\n",
       "  <th>education_university.degree</th>   <td>  328.6033</td> <td>    1.005</td> <td>  326.808</td> <td> 0.000</td> <td>  326.633</td> <td>  330.574</td>\n",
       "</tr>\n",
       "<tr>\n",
       "  <th>housing_no</th>                    <td> 1317.0586</td> <td>    0.468</td> <td> 2813.560</td> <td> 0.000</td> <td> 1316.141</td> <td> 1317.976</td>\n",
       "</tr>\n",
       "<tr>\n",
       "  <th>housing_yes</th>                   <td> 1318.2272</td> <td>    0.466</td> <td> 2831.810</td> <td> 0.000</td> <td> 1317.315</td> <td> 1319.140</td>\n",
       "</tr>\n",
       "<tr>\n",
       "  <th>default_no</th>                    <td> 1317.1255</td> <td>    0.459</td> <td> 2868.730</td> <td> 0.000</td> <td> 1316.226</td> <td> 1318.025</td>\n",
       "</tr>\n",
       "<tr>\n",
       "  <th>default_yes</th>                   <td> 1318.1603</td> <td>    0.518</td> <td> 2546.805</td> <td> 0.000</td> <td> 1317.146</td> <td> 1319.175</td>\n",
       "</tr>\n",
       "<tr>\n",
       "  <th>y_no</th>                          <td> 1327.5306</td> <td>    0.485</td> <td> 2735.027</td> <td> 0.000</td> <td> 1326.579</td> <td> 1328.482</td>\n",
       "</tr>\n",
       "<tr>\n",
       "  <th>y_yes</th>                         <td> 1307.7552</td> <td>    0.552</td> <td> 2367.358</td> <td> 0.000</td> <td> 1306.672</td> <td> 1308.838</td>\n",
       "</tr>\n",
       "</table>\n",
       "<table class=\"simpletable\">\n",
       "<tr>\n",
       "  <th>Omnibus:</th>       <td>15748.600</td> <th>  Durbin-Watson:     </th>  <td>   1.984</td> \n",
       "</tr>\n",
       "<tr>\n",
       "  <th>Prob(Omnibus):</th>  <td> 0.000</td>   <th>  Jarque-Bera (JB):  </th> <td>141680.293</td>\n",
       "</tr>\n",
       "<tr>\n",
       "  <th>Skew:</th>           <td>-2.502</td>   <th>  Prob(JB):          </th>  <td>    0.00</td> \n",
       "</tr>\n",
       "<tr>\n",
       "  <th>Kurtosis:</th>       <td>12.638</td>   <th>  Cond. No.          </th>  <td>1.00e+16</td> \n",
       "</tr>\n",
       "</table><br/><br/>Warnings:<br/>[1] Standard Errors assume that the covariance matrix of the errors is correctly specified.<br/>[2] The smallest eigenvalue is 4.93e-25. This might indicate that there are<br/>strong multicollinearity problems or that the design matrix is singular."
      ],
      "text/plain": [
       "<class 'statsmodels.iolib.summary.Summary'>\n",
       "\"\"\"\n",
       "                            OLS Regression Results                            \n",
       "==============================================================================\n",
       "Dep. Variable:            nr.employed   R-squared:                       0.836\n",
       "Model:                            OLS   Adj. R-squared:                  0.836\n",
       "Method:                 Least Squares   F-statistic:                     5448.\n",
       "Date:                Mon, 25 Feb 2019   Prob (F-statistic):               0.00\n",
       "Time:                        20:51:16   Log-Likelihood:            -1.3821e+05\n",
       "No. Observations:               28831   AIC:                         2.765e+05\n",
       "Df Residuals:                   28803   BIC:                         2.767e+05\n",
       "Df Model:                          27                                         \n",
       "Covariance Type:            nonrobust                                         \n",
       "=================================================================================================\n",
       "                                    coef    std err          t      P>|t|      [0.025      0.975]\n",
       "-------------------------------------------------------------------------------------------------\n",
       "age                              -0.0990      0.021     -4.666      0.000      -0.141      -0.057\n",
       "campaign                          0.1534      0.064      2.395      0.017       0.028       0.279\n",
       "emp.var.rate                     40.0860      0.119    335.462      0.000      39.852      40.320\n",
       "job_admin.                      220.5717      0.454    486.198      0.000     219.682     221.461\n",
       "job_blue-collar                 222.1376      0.497    446.597      0.000     221.163     223.113\n",
       "job_entrepreneur                226.1113      0.881    256.737      0.000     224.385     227.838\n",
       "job_housemaid                   220.2376      1.056    208.508      0.000     218.167     222.308\n",
       "job_management                  223.8820      0.685    326.916      0.000     222.540     225.224\n",
       "job_retired                     213.7668      0.933    229.035      0.000     211.937     215.596\n",
       "job_self-employed               223.2830      0.898    248.613      0.000     221.523     225.043\n",
       "job_services                    221.9591      0.616    360.087      0.000     220.751     223.167\n",
       "job_student                     205.2208      1.193    172.000      0.000     202.882     207.559\n",
       "job_technician                  221.5993      0.540    410.306      0.000     220.541     222.658\n",
       "job_unemployed                  219.2721      1.043    210.310      0.000     217.229     221.316\n",
       "job_unknown                     217.2445      1.781    121.950      0.000     213.753     220.736\n",
       "marital_divorced                658.8302      0.975    675.992      0.000     656.920     660.741\n",
       "marital_married                 658.6812      0.899    732.552      0.000     656.919     660.444\n",
       "marital_single                  657.2335      0.907    724.615      0.000     655.456     659.011\n",
       "marital_unknown                 660.5409      3.041    217.178      0.000     654.579     666.502\n",
       "education_basic.4y              325.8250      1.073    303.657      0.000     323.722     327.928\n",
       "education_basic.6y              327.8559      1.148    285.690      0.000     325.607     330.105\n",
       "education_basic.9y              328.1488      1.025    320.221      0.000     326.140     330.157\n",
       "education_high.school           327.7376      1.006    325.849      0.000     325.766     329.709\n",
       "education_illiterate            346.2294      6.906     50.132      0.000     332.693     359.766\n",
       "education_not.known             323.6525      1.202    269.299      0.000     321.297     326.008\n",
       "education_professional.course   327.2333      1.065    307.198      0.000     325.145     329.321\n",
       "education_university.degree     328.6033      1.005    326.808      0.000     326.633     330.574\n",
       "housing_no                     1317.0586      0.468   2813.560      0.000    1316.141    1317.976\n",
       "housing_yes                    1318.2272      0.466   2831.810      0.000    1317.315    1319.140\n",
       "default_no                     1317.1255      0.459   2868.730      0.000    1316.226    1318.025\n",
       "default_yes                    1318.1603      0.518   2546.805      0.000    1317.146    1319.175\n",
       "y_no                           1327.5306      0.485   2735.027      0.000    1326.579    1328.482\n",
       "y_yes                          1307.7552      0.552   2367.358      0.000    1306.672    1308.838\n",
       "==============================================================================\n",
       "Omnibus:                    15748.600   Durbin-Watson:                   1.984\n",
       "Prob(Omnibus):                  0.000   Jarque-Bera (JB):           141680.293\n",
       "Skew:                          -2.502   Prob(JB):                         0.00\n",
       "Kurtosis:                      12.638   Cond. No.                     1.00e+16\n",
       "==============================================================================\n",
       "\n",
       "Warnings:\n",
       "[1] Standard Errors assume that the covariance matrix of the errors is correctly specified.\n",
       "[2] The smallest eigenvalue is 4.93e-25. This might indicate that there are\n",
       "strong multicollinearity problems or that the design matrix is singular.\n",
       "\"\"\""
      ]
     },
     "execution_count": 133,
     "metadata": {},
     "output_type": "execute_result"
    }
   ],
   "source": [
    "regr = OLS(y_train, X_train).fit()\n",
    "regr.summary()"
   ]
  },
  {
   "cell_type": "markdown",
   "metadata": {},
   "source": [
    "### Conclusion from model 2\n",
    "\n",
    "Is the relationship significant?   \n",
    "Does the model make sense? Interpret the meaning of each independent variable.   \n",
    "Cross-validate the model. How well did it do? \n",
    "\n",
    "\n",
    "1. We can conclude that the model captures 83.2% variance of dependent variable, which is good and hence model is significant\n",
    "\n",
    "2. Features like Age, marital, job, housing, loan, default, etc. have small p-values\n",
    " - Reject the null hypothesis for Age, marital, job, housing, loan and default, etc. Hence, there is association between features and Number of employees\n",
    "\n",
    "3. The model has cross-validated and it did pretty well with accuracy of 83%\n",
    "\n",
    "This model has a R-squared (0.83)"
   ]
  },
  {
   "cell_type": "markdown",
   "metadata": {},
   "source": [
    "#### Regression Model assumptions:"
   ]
  },
  {
   "cell_type": "markdown",
   "metadata": {},
   "source": [
    "****1. Linearity & Equal variance****\n",
    "\n",
    "Both can be tested by plotting residuals vs. predictions, where residuals are prediction errors."
   ]
  },
  {
   "cell_type": "code",
   "execution_count": 134,
   "metadata": {},
   "outputs": [
    {
     "data": {
      "image/png": "[encoded data removed]",
      "text/plain": [
       "<Figure size 576x216 with 1 Axes>"
      ]
     },
     "metadata": {
      "needs_background": "light"
     },
     "output_type": "display_data"
    }
   ],
   "source": [
    "fig,ax=plt.subplots(figsize=(8,3))\n",
    "residual=y_train-y_pred\n",
    "_=ax.scatter(residual,y_pred)"
   ]
  },
  {
   "cell_type": "markdown",
   "metadata": {},
   "source": [
    "It seems like the corresponding residual plot is reasonably random. "
   ]
  },
  {
   "cell_type": "markdown",
   "metadata": {},
   "source": [
    "****2. To confirm that, let’s go with a hypothesis test, Breusch-Pagan test, for linearity****"
   ]
  },
  {
   "cell_type": "code",
   "execution_count": 135,
   "metadata": {},
   "outputs": [
    {
     "data": {
      "text/plain": [
       "(0.0, 0.0)"
      ]
     },
     "execution_count": 135,
     "metadata": {},
     "output_type": "execute_result"
    }
   ],
   "source": [
    "import statsmodels.stats.api as sms\n",
    "_, pval, __, f_pval = statsmodels.stats.diagnostic.het_breuschpagan(residual, X_train)\n",
    "pval, f_pval"
   ]
  },
  {
   "cell_type": "markdown",
   "metadata": {},
   "source": [
    "Small p-value (pval below) shows that there is violation of homoscedasticity. Usually assumption violations are not independent of each other. Having one violations may lead to another. In this case, we see that both linearity and homoscedasticity are not met."
   ]
  },
  {
   "cell_type": "markdown",
   "metadata": {},
   "source": [
    "****3. Normality****\n",
    "\n",
    "We apply normality probability plot to assess how the data (error) depart from normality visually."
   ]
  },
  {
   "cell_type": "code",
   "execution_count": 136,
   "metadata": {},
   "outputs": [
    {
     "data": {
      "text/plain": [
       "0.7445068262203376"
      ]
     },
     "execution_count": 136,
     "metadata": {},
     "output_type": "execute_result"
    },
    {
     "data": {
      "image/png": "[encoded data removed]",
      "text/plain": [
       "<Figure size 576x216 with 1 Axes>"
      ]
     },
     "metadata": {
      "needs_background": "light"
     },
     "output_type": "display_data"
    }
   ],
   "source": [
    "import scipy as sp\n",
    "fig,ax=plt.subplots(figsize=(8,3))\n",
    "_,(_,_,r)=sp.stats.probplot(residual,plot=ax, fit=True)\n",
    "r**2"
   ]
  },
  {
   "cell_type": "markdown",
   "metadata": {},
   "source": [
    "The average fit indicates that normality is an average approximation"
   ]
  },
  {
   "cell_type": "markdown",
   "metadata": {},
   "source": [
    "### Linear Regression - Model 3"
   ]
  },
  {
   "cell_type": "code",
   "execution_count": 137,
   "metadata": {},
   "outputs": [],
   "source": [
    "DF3=DF\n",
    "df3_lin=DF3.drop(['marital_divorced','marital_single','marital_unknown','marital_married'],axis=1, inplace=False)"
   ]
  },
  {
   "cell_type": "code",
   "execution_count": 138,
   "metadata": {},
   "outputs": [
    {
     "name": "stdout",
     "output_type": "stream",
     "text": [
      "(41188,)\n",
      "(41188, 33)\n"
     ]
    }
   ],
   "source": [
    "y_label_3=bank['nr.employed']\n",
    "print(y_label_3.shape)\n",
    "print(df3_lin.shape)"
   ]
  },
  {
   "cell_type": "code",
   "execution_count": 139,
   "metadata": {},
   "outputs": [
    {
     "name": "stdout",
     "output_type": "stream",
     "text": [
      "value of Accuracy_train:  0.922472\n",
      "value of Accuracy_test:  0.920261\n"
     ]
    }
   ],
   "source": [
    "from sklearn.model_selection import train_test_split\n",
    "from sklearn.linear_model import LinearRegression\n",
    "from sklearn.metrics import mean_squared_error, mean_squared_log_error\n",
    "X_train, X_test, y_train, y_test = train_test_split(df3_lin, y_label_3, test_size = 0.3, random_state = 0)\n",
    "\n",
    "model = LinearRegression(normalize=True)\n",
    "model.fit(X_train, y_train)\n",
    "\n",
    "print(\"value of Accuracy_train:%10f\"% model.score(X_train,y_train))\n",
    "print(\"value of Accuracy_test:%10f\"% model.score(X_test,y_test))"
   ]
  },
  {
   "cell_type": "markdown",
   "metadata": {},
   "source": [
    "Accuracy of model 3: 92.14%"
   ]
  },
  {
   "cell_type": "code",
   "execution_count": 140,
   "metadata": {},
   "outputs": [
    {
     "name": "stdout",
     "output_type": "stream",
     "text": [
      "0.9223143363957226\n"
     ]
    }
   ],
   "source": [
    "# performed 5-fold cross validation \n",
    "from sklearn.model_selection import cross_val_score\n",
    "scores = cross_val_score(model, X_train, y_train, cv=5)\n",
    "print (scores.mean())"
   ]
  },
  {
   "cell_type": "markdown",
   "metadata": {},
   "source": [
    "Cross-validation accuracy: 92.12%"
   ]
  },
  {
   "cell_type": "code",
   "execution_count": 141,
   "metadata": {},
   "outputs": [
    {
     "name": "stdout",
     "output_type": "stream",
     "text": [
      "rmse_train: 20.10566605036944 msle_train: 1.5513679597907123e-05\n",
      "rmse_test: 20.42989745929268 msle_test: 1.6036660205089898e-05\n"
     ]
    },
    {
     "data": {
      "image/png": "[encoded data removed]",
      "text/plain": [
       "<Figure size 576x576 with 1 Axes>"
      ]
     },
     "metadata": {
      "needs_background": "light"
     },
     "output_type": "display_data"
    }
   ],
   "source": [
    "train_pred_Y = model.predict(X_train)\n",
    "test_pred_Y = model.predict(X_test)\n",
    "train_pred_Y = pd.Series(train_pred_Y.clip(0, train_pred_Y.max()), index=y_train.index)\n",
    "test_pred_Y = pd.Series(test_pred_Y.clip(0, test_pred_Y.max()), index=y_test.index)\n",
    "\n",
    "rmse_train = np.sqrt(mean_squared_error(train_pred_Y, y_train))\n",
    "msle_train = mean_squared_log_error(train_pred_Y, y_train)\n",
    "rmse_test = np.sqrt(mean_squared_error(test_pred_Y, y_test))\n",
    "msle_test = mean_squared_log_error(test_pred_Y, y_test)\n",
    "\n",
    "print('rmse_train:',rmse_train,'msle_train:',msle_train)\n",
    "print('rmse_test:',rmse_test,'msle_test:',msle_test)\n",
    "plt.figure(figsize=(8,8))\n",
    "plt.scatter(test_pred_Y ,y_test ,alpha = 0.3, color='red')\n",
    "plt.xlabel('Features')\n",
    "plt.ylabel('Number of employees')\n",
    "plt.title(\"Linear Prediction of number of employees against features\")\n",
    "plt.show()"
   ]
  },
  {
   "cell_type": "markdown",
   "metadata": {},
   "source": [
    "#### Calculation of metrics affecting linear regression\n",
    "\n",
    "****1. R-square:****"
   ]
  },
  {
   "cell_type": "code",
   "execution_count": 142,
   "metadata": {},
   "outputs": [
    {
     "name": "stdout",
     "output_type": "stream",
     "text": [
      "value of r-squared score:  0.922472\n"
     ]
    }
   ],
   "source": [
    "from sklearn.metrics import r2_score\n",
    "y_pred=model.predict(X_train)\n",
    "\n",
    "print(\"value of r-squared score:%10f\"% r2_score(y_train,y_pred))"
   ]
  },
  {
   "cell_type": "markdown",
   "metadata": {},
   "source": [
    "****2. Summary of OLS Regression : AIC, BIC and adjusted R-squared****"
   ]
  },
  {
   "cell_type": "code",
   "execution_count": 143,
   "metadata": {},
   "outputs": [
    {
     "data": {
      "text/html": [
       "<table class=\"simpletable\">\n",
       "<caption>OLS Regression Results</caption>\n",
       "<tr>\n",
       "  <th>Dep. Variable:</th>       <td>nr.employed</td>   <th>  R-squared:         </th>  <td>   0.922</td>  \n",
       "</tr>\n",
       "<tr>\n",
       "  <th>Model:</th>                   <td>OLS</td>       <th>  Adj. R-squared:    </th>  <td>   0.922</td>  \n",
       "</tr>\n",
       "<tr>\n",
       "  <th>Method:</th>             <td>Least Squares</td>  <th>  F-statistic:       </th>  <td>1.269e+04</td> \n",
       "</tr>\n",
       "<tr>\n",
       "  <th>Date:</th>             <td>Mon, 25 Feb 2019</td> <th>  Prob (F-statistic):</th>   <td>  0.00</td>   \n",
       "</tr>\n",
       "<tr>\n",
       "  <th>Time:</th>                 <td>20:51:23</td>     <th>  Log-Likelihood:    </th> <td>-1.2743e+05</td>\n",
       "</tr>\n",
       "<tr>\n",
       "  <th>No. Observations:</th>      <td> 28831</td>      <th>  AIC:               </th>  <td>2.549e+05</td> \n",
       "</tr>\n",
       "<tr>\n",
       "  <th>Df Residuals:</th>          <td> 28803</td>      <th>  BIC:               </th>  <td>2.552e+05</td> \n",
       "</tr>\n",
       "<tr>\n",
       "  <th>Df Model:</th>              <td>    27</td>      <th>                     </th>      <td> </td>     \n",
       "</tr>\n",
       "<tr>\n",
       "  <th>Covariance Type:</th>      <td>nonrobust</td>    <th>                     </th>      <td> </td>     \n",
       "</tr>\n",
       "</table>\n",
       "<table class=\"simpletable\">\n",
       "<tr>\n",
       "                <td></td>                   <th>coef</th>     <th>std err</th>      <th>t</th>      <th>P>|t|</th>  <th>[0.025</th>    <th>0.975]</th>  \n",
       "</tr>\n",
       "<tr>\n",
       "  <th>age</th>                           <td>   -0.0144</td> <td>    0.014</td> <td>   -1.055</td> <td> 0.291</td> <td>   -0.041</td> <td>    0.012</td>\n",
       "</tr>\n",
       "<tr>\n",
       "  <th>campaign</th>                      <td>    0.1781</td> <td>    0.044</td> <td>    4.038</td> <td> 0.000</td> <td>    0.092</td> <td>    0.265</td>\n",
       "</tr>\n",
       "<tr>\n",
       "  <th>emp.var.rate</th>                  <td>   59.0581</td> <td>    0.134</td> <td>  440.975</td> <td> 0.000</td> <td>   58.796</td> <td>   59.321</td>\n",
       "</tr>\n",
       "<tr>\n",
       "  <th>cons.price.idx</th>                <td>  -59.1602</td> <td>    0.338</td> <td> -174.787</td> <td> 0.000</td> <td>  -59.824</td> <td>  -58.497</td>\n",
       "</tr>\n",
       "<tr>\n",
       "  <th>cons.conf.idx</th>                 <td>   -1.8365</td> <td>    0.027</td> <td>  -67.333</td> <td> 0.000</td> <td>   -1.890</td> <td>   -1.783</td>\n",
       "</tr>\n",
       "<tr>\n",
       "  <th>job_admin.</th>                    <td>  399.6883</td> <td>    1.218</td> <td>  328.089</td> <td> 0.000</td> <td>  397.300</td> <td>  402.076</td>\n",
       "</tr>\n",
       "<tr>\n",
       "  <th>job_blue-collar</th>               <td>  401.4576</td> <td>    1.233</td> <td>  325.605</td> <td> 0.000</td> <td>  399.041</td> <td>  403.874</td>\n",
       "</tr>\n",
       "<tr>\n",
       "  <th>job_entrepreneur</th>              <td>  405.8212</td> <td>    1.333</td> <td>  304.375</td> <td> 0.000</td> <td>  403.208</td> <td>  408.435</td>\n",
       "</tr>\n",
       "<tr>\n",
       "  <th>job_housemaid</th>                 <td>  399.7304</td> <td>    1.383</td> <td>  288.946</td> <td> 0.000</td> <td>  397.019</td> <td>  402.442</td>\n",
       "</tr>\n",
       "<tr>\n",
       "  <th>job_management</th>                <td>  403.3626</td> <td>    1.272</td> <td>  316.998</td> <td> 0.000</td> <td>  400.869</td> <td>  405.857</td>\n",
       "</tr>\n",
       "<tr>\n",
       "  <th>job_retired</th>                   <td>  398.2535</td> <td>    1.362</td> <td>  292.406</td> <td> 0.000</td> <td>  395.584</td> <td>  400.923</td>\n",
       "</tr>\n",
       "<tr>\n",
       "  <th>job_self-employed</th>             <td>  402.5818</td> <td>    1.332</td> <td>  302.133</td> <td> 0.000</td> <td>  399.970</td> <td>  405.194</td>\n",
       "</tr>\n",
       "<tr>\n",
       "  <th>job_services</th>                  <td>  401.0968</td> <td>    1.256</td> <td>  319.325</td> <td> 0.000</td> <td>  398.635</td> <td>  403.559</td>\n",
       "</tr>\n",
       "<tr>\n",
       "  <th>job_student</th>                   <td>  395.6287</td> <td>    1.478</td> <td>  267.592</td> <td> 0.000</td> <td>  392.731</td> <td>  398.527</td>\n",
       "</tr>\n",
       "<tr>\n",
       "  <th>job_technician</th>                <td>  398.1033</td> <td>    1.219</td> <td>  326.654</td> <td> 0.000</td> <td>  395.715</td> <td>  400.492</td>\n",
       "</tr>\n",
       "<tr>\n",
       "  <th>job_unemployed</th>                <td>  402.6073</td> <td>    1.396</td> <td>  288.482</td> <td> 0.000</td> <td>  399.872</td> <td>  405.343</td>\n",
       "</tr>\n",
       "<tr>\n",
       "  <th>job_unknown</th>                   <td>  402.1676</td> <td>    1.718</td> <td>  234.038</td> <td> 0.000</td> <td>  398.799</td> <td>  405.536</td>\n",
       "</tr>\n",
       "<tr>\n",
       "  <th>education_basic.4y</th>            <td>  600.5171</td> <td>    1.947</td> <td>  308.482</td> <td> 0.000</td> <td>  596.701</td> <td>  604.333</td>\n",
       "</tr>\n",
       "<tr>\n",
       "  <th>education_basic.6y</th>            <td>  601.4479</td> <td>    1.964</td> <td>  306.303</td> <td> 0.000</td> <td>  597.599</td> <td>  605.297</td>\n",
       "</tr>\n",
       "<tr>\n",
       "  <th>education_basic.9y</th>            <td>  601.3151</td> <td>    1.929</td> <td>  311.715</td> <td> 0.000</td> <td>  597.534</td> <td>  605.096</td>\n",
       "</tr>\n",
       "<tr>\n",
       "  <th>education_high.school</th>         <td>  601.2715</td> <td>    1.926</td> <td>  312.180</td> <td> 0.000</td> <td>  597.496</td> <td>  605.047</td>\n",
       "</tr>\n",
       "<tr>\n",
       "  <th>education_illiterate</th>          <td>  605.2858</td> <td>    5.046</td> <td>  119.958</td> <td> 0.000</td> <td>  595.396</td> <td>  615.176</td>\n",
       "</tr>\n",
       "<tr>\n",
       "  <th>education_not.known</th>           <td>  600.9396</td> <td>    1.994</td> <td>  301.405</td> <td> 0.000</td> <td>  597.032</td> <td>  604.848</td>\n",
       "</tr>\n",
       "<tr>\n",
       "  <th>education_professional.course</th> <td>  600.2486</td> <td>    1.936</td> <td>  309.979</td> <td> 0.000</td> <td>  596.453</td> <td>  604.044</td>\n",
       "</tr>\n",
       "<tr>\n",
       "  <th>education_university.degree</th>   <td>  599.4738</td> <td>    1.906</td> <td>  314.483</td> <td> 0.000</td> <td>  595.738</td> <td>  603.210</td>\n",
       "</tr>\n",
       "<tr>\n",
       "  <th>housing_no</th>                    <td> 2405.8627</td> <td>    7.149</td> <td>  336.520</td> <td> 0.000</td> <td> 2391.850</td> <td> 2419.876</td>\n",
       "</tr>\n",
       "<tr>\n",
       "  <th>housing_yes</th>                   <td> 2404.6365</td> <td>    7.137</td> <td>  336.933</td> <td> 0.000</td> <td> 2390.648</td> <td> 2418.625</td>\n",
       "</tr>\n",
       "<tr>\n",
       "  <th>loan_no</th>                       <td> 2405.1807</td> <td>    7.143</td> <td>  336.740</td> <td> 0.000</td> <td> 2391.181</td> <td> 2419.180</td>\n",
       "</tr>\n",
       "<tr>\n",
       "  <th>loan_yes</th>                      <td> 2405.3185</td> <td>    7.145</td> <td>  336.648</td> <td> 0.000</td> <td> 2391.314</td> <td> 2419.323</td>\n",
       "</tr>\n",
       "<tr>\n",
       "  <th>default_no</th>                    <td> 2404.7780</td> <td>    7.143</td> <td>  336.669</td> <td> 0.000</td> <td> 2390.778</td> <td> 2418.778</td>\n",
       "</tr>\n",
       "<tr>\n",
       "  <th>default_yes</th>                   <td> 2405.7212</td> <td>    7.145</td> <td>  336.719</td> <td> 0.000</td> <td> 2391.717</td> <td> 2419.725</td>\n",
       "</tr>\n",
       "<tr>\n",
       "  <th>y_no</th>                          <td> 2408.2227</td> <td>    7.109</td> <td>  338.740</td> <td> 0.000</td> <td> 2394.288</td> <td> 2422.157</td>\n",
       "</tr>\n",
       "<tr>\n",
       "  <th>y_yes</th>                         <td> 2402.2765</td> <td>    7.180</td> <td>  334.569</td> <td> 0.000</td> <td> 2388.203</td> <td> 2416.350</td>\n",
       "</tr>\n",
       "</table>\n",
       "<table class=\"simpletable\">\n",
       "<tr>\n",
       "  <th>Omnibus:</th>       <td>3678.821</td> <th>  Durbin-Watson:     </th> <td>   2.009</td> \n",
       "</tr>\n",
       "<tr>\n",
       "  <th>Prob(Omnibus):</th>  <td> 0.000</td>  <th>  Jarque-Bera (JB):  </th> <td>19718.405</td>\n",
       "</tr>\n",
       "<tr>\n",
       "  <th>Skew:</th>           <td>-0.502</td>  <th>  Prob(JB):          </th> <td>    0.00</td> \n",
       "</tr>\n",
       "<tr>\n",
       "  <th>Kurtosis:</th>       <td> 6.925</td>  <th>  Cond. No.          </th> <td>1.11e+16</td> \n",
       "</tr>\n",
       "</table><br/><br/>Warnings:<br/>[1] Standard Errors assume that the covariance matrix of the errors is correctly specified.<br/>[2] The smallest eigenvalue is 2.8e-24. This might indicate that there are<br/>strong multicollinearity problems or that the design matrix is singular."
      ],
      "text/plain": [
       "<class 'statsmodels.iolib.summary.Summary'>\n",
       "\"\"\"\n",
       "                            OLS Regression Results                            \n",
       "==============================================================================\n",
       "Dep. Variable:            nr.employed   R-squared:                       0.922\n",
       "Model:                            OLS   Adj. R-squared:                  0.922\n",
       "Method:                 Least Squares   F-statistic:                 1.269e+04\n",
       "Date:                Mon, 25 Feb 2019   Prob (F-statistic):               0.00\n",
       "Time:                        20:51:23   Log-Likelihood:            -1.2743e+05\n",
       "No. Observations:               28831   AIC:                         2.549e+05\n",
       "Df Residuals:                   28803   BIC:                         2.552e+05\n",
       "Df Model:                          27                                         \n",
       "Covariance Type:            nonrobust                                         \n",
       "=================================================================================================\n",
       "                                    coef    std err          t      P>|t|      [0.025      0.975]\n",
       "-------------------------------------------------------------------------------------------------\n",
       "age                              -0.0144      0.014     -1.055      0.291      -0.041       0.012\n",
       "campaign                          0.1781      0.044      4.038      0.000       0.092       0.265\n",
       "emp.var.rate                     59.0581      0.134    440.975      0.000      58.796      59.321\n",
       "cons.price.idx                  -59.1602      0.338   -174.787      0.000     -59.824     -58.497\n",
       "cons.conf.idx                    -1.8365      0.027    -67.333      0.000      -1.890      -1.783\n",
       "job_admin.                      399.6883      1.218    328.089      0.000     397.300     402.076\n",
       "job_blue-collar                 401.4576      1.233    325.605      0.000     399.041     403.874\n",
       "job_entrepreneur                405.8212      1.333    304.375      0.000     403.208     408.435\n",
       "job_housemaid                   399.7304      1.383    288.946      0.000     397.019     402.442\n",
       "job_management                  403.3626      1.272    316.998      0.000     400.869     405.857\n",
       "job_retired                     398.2535      1.362    292.406      0.000     395.584     400.923\n",
       "job_self-employed               402.5818      1.332    302.133      0.000     399.970     405.194\n",
       "job_services                    401.0968      1.256    319.325      0.000     398.635     403.559\n",
       "job_student                     395.6287      1.478    267.592      0.000     392.731     398.527\n",
       "job_technician                  398.1033      1.219    326.654      0.000     395.715     400.492\n",
       "job_unemployed                  402.6073      1.396    288.482      0.000     399.872     405.343\n",
       "job_unknown                     402.1676      1.718    234.038      0.000     398.799     405.536\n",
       "education_basic.4y              600.5171      1.947    308.482      0.000     596.701     604.333\n",
       "education_basic.6y              601.4479      1.964    306.303      0.000     597.599     605.297\n",
       "education_basic.9y              601.3151      1.929    311.715      0.000     597.534     605.096\n",
       "education_high.school           601.2715      1.926    312.180      0.000     597.496     605.047\n",
       "education_illiterate            605.2858      5.046    119.958      0.000     595.396     615.176\n",
       "education_not.known             600.9396      1.994    301.405      0.000     597.032     604.848\n",
       "education_professional.course   600.2486      1.936    309.979      0.000     596.453     604.044\n",
       "education_university.degree     599.4738      1.906    314.483      0.000     595.738     603.210\n",
       "housing_no                     2405.8627      7.149    336.520      0.000    2391.850    2419.876\n",
       "housing_yes                    2404.6365      7.137    336.933      0.000    2390.648    2418.625\n",
       "loan_no                        2405.1807      7.143    336.740      0.000    2391.181    2419.180\n",
       "loan_yes                       2405.3185      7.145    336.648      0.000    2391.314    2419.323\n",
       "default_no                     2404.7780      7.143    336.669      0.000    2390.778    2418.778\n",
       "default_yes                    2405.7212      7.145    336.719      0.000    2391.717    2419.725\n",
       "y_no                           2408.2227      7.109    338.740      0.000    2394.288    2422.157\n",
       "y_yes                          2402.2765      7.180    334.569      0.000    2388.203    2416.350\n",
       "==============================================================================\n",
       "Omnibus:                     3678.821   Durbin-Watson:                   2.009\n",
       "Prob(Omnibus):                  0.000   Jarque-Bera (JB):            19718.405\n",
       "Skew:                          -0.502   Prob(JB):                         0.00\n",
       "Kurtosis:                       6.925   Cond. No.                     1.11e+16\n",
       "==============================================================================\n",
       "\n",
       "Warnings:\n",
       "[1] Standard Errors assume that the covariance matrix of the errors is correctly specified.\n",
       "[2] The smallest eigenvalue is 2.8e-24. This might indicate that there are\n",
       "strong multicollinearity problems or that the design matrix is singular.\n",
       "\"\"\""
      ]
     },
     "execution_count": 143,
     "metadata": {},
     "output_type": "execute_result"
    }
   ],
   "source": [
    "regr = OLS(y_train, X_train).fit()\n",
    "regr.summary()"
   ]
  },
  {
   "cell_type": "markdown",
   "metadata": {},
   "source": [
    "### Conclusion from model 3\n",
    "\n",
    "Is the relationship significant?\n",
    "Does the model make sense? Interpret the meaning of each independent variable.\n",
    "Cross-validate the model. How well did it do? \n",
    "\n",
    "1. We can conclude that the model captures 92.1% variance of dependent variable, which is good and hence model is significant\n",
    "2. Features like marital, job, housing, loan, default, etc. have small p-values\n",
    " - Reject the null hypothesis for Age, marital, job, housing, loan and default, etc. Hence, there is association between features and Number of employees\n",
    "3. The model has cross-validated and it did pretty well with accuracy of 92%\n",
    "\n",
    "This model has a R-squared (0.92)"
   ]
  },
  {
   "cell_type": "markdown",
   "metadata": {},
   "source": [
    "#### Regression Model assumptions:"
   ]
  },
  {
   "cell_type": "markdown",
   "metadata": {},
   "source": [
    "****1. Linearity and Equal variance****\n",
    "\n",
    "Both can be tested by plotting residuals vs. predictions, where residuals are prediction errors."
   ]
  },
  {
   "cell_type": "code",
   "execution_count": 144,
   "metadata": {},
   "outputs": [
    {
     "data": {
      "image/png": "[encoded data removed]",
      "text/plain": [
       "<Figure size 576x216 with 1 Axes>"
      ]
     },
     "metadata": {
      "needs_background": "light"
     },
     "output_type": "display_data"
    }
   ],
   "source": [
    "fig,ax=plt.subplots(figsize=(8,3))\n",
    "residual=y_train-y_pred\n",
    "_=ax.scatter(residual,y_pred)"
   ]
  },
  {
   "cell_type": "markdown",
   "metadata": {},
   "source": [
    "It seems like the corresponding residual plot is reasonably random. "
   ]
  },
  {
   "cell_type": "markdown",
   "metadata": {},
   "source": [
    "****2. To confirm that, let’s go with a hypothesis test, Breusch-Pagan test, for linearity****"
   ]
  },
  {
   "cell_type": "code",
   "execution_count": 145,
   "metadata": {},
   "outputs": [
    {
     "data": {
      "text/plain": [
       "(0.0, 0.0)"
      ]
     },
     "execution_count": 145,
     "metadata": {},
     "output_type": "execute_result"
    }
   ],
   "source": [
    "import statsmodels.stats.api as sms\n",
    "_, pval, __, f_pval = statsmodels.stats.diagnostic.het_breuschpagan(residual, X_train)\n",
    "pval, f_pval"
   ]
  },
  {
   "cell_type": "markdown",
   "metadata": {},
   "source": [
    "Small p-value (pval below) shows that there is violation of homoscedasticity. Usually assumption violations are not independent of each other. Having one violations may lead to another. In this case, we see that both linearity and homoscedasticity are not met."
   ]
  },
  {
   "cell_type": "markdown",
   "metadata": {},
   "source": [
    "****3. Normality****\n",
    "\n",
    "We apply normality probability plot to assess how the data (error) depart from normality visually."
   ]
  },
  {
   "cell_type": "code",
   "execution_count": 146,
   "metadata": {},
   "outputs": [
    {
     "data": {
      "text/plain": [
       "0.8908480200507294"
      ]
     },
     "execution_count": 146,
     "metadata": {},
     "output_type": "execute_result"
    },
    {
     "data": {
      "image/png": "[encoded data removed]",
      "text/plain": [
       "<Figure size 576x216 with 1 Axes>"
      ]
     },
     "metadata": {
      "needs_background": "light"
     },
     "output_type": "display_data"
    }
   ],
   "source": [
    "import scipy as sp\n",
    "fig,ax=plt.subplots(figsize=(8,3))\n",
    "_,(_,_,r)=sp.stats.probplot(residual,plot=ax, fit=True)\n",
    "r**2"
   ]
  },
  {
   "cell_type": "markdown",
   "metadata": {},
   "source": [
    "The good fit indicates that normality is a reasonable approximation"
   ]
  },
  {
   "cell_type": "markdown",
   "metadata": {},
   "source": [
    "### Conclusion of Linear Regression:\n",
    "\n",
    "- By observing all the three models, we can conclude that the relationship of the target variable with the features mentioned is significant. The significant features are as below: Age, marital, job, housing, loan, default, campaign, etc\n",
    "\n",
    "- The results show that the model 1 and model 3 have better accuracy with respect to model 2.\n",
    "- All three model makes sense.\n",
    "- Model assumption violation have been calculated and displayed in the graphs for all three models.  \n",
    "- For all three models cross validation gives good result, such that it is accurate.\n",
    "- AIC,BIC and adjusted R^2 for Linear Model 1,2 and 3 is the least, highest and lower , hence model 1 is the one which should be choosen"
   ]
  },
  {
   "cell_type": "markdown",
   "metadata": {},
   "source": [
    "# Logistic Regression"
   ]
  },
  {
   "cell_type": "markdown",
   "metadata": {},
   "source": [
    "****Logistic regression, or logit regression****, or is a regression model where the outcome variable is categorical. Often this is used when the variable is binary (e.g. yes/no, survived/dead, pass/fail, etc.)\n",
    "\n",
    "Logistic regression measures the relationship between the categorical response variable and one or more predictor variables by estimating probabilities."
   ]
  },
  {
   "cell_type": "markdown",
   "metadata": {},
   "source": [
    "#### Logistic Regression: Model 1"
   ]
  },
  {
   "cell_type": "code",
   "execution_count": 147,
   "metadata": {},
   "outputs": [
    {
     "data": {
      "text/plain": [
       "Index(['age', 'campaign', 'emp.var.rate', 'cons.price.idx', 'cons.conf.idx',\n",
       "       'job_admin.', 'job_blue-collar', 'job_entrepreneur', 'job_housemaid',\n",
       "       'job_management', 'job_retired', 'job_self-employed', 'job_services',\n",
       "       'job_student', 'job_technician', 'job_unemployed', 'job_unknown',\n",
       "       'marital_divorced', 'marital_married', 'marital_single',\n",
       "       'marital_unknown', 'education_basic.4y', 'education_basic.6y',\n",
       "       'education_basic.9y', 'education_high.school', 'education_illiterate',\n",
       "       'education_not.known', 'education_professional.course',\n",
       "       'education_university.degree', 'housing_no', 'housing_yes', 'loan_no',\n",
       "       'loan_yes', 'default_no', 'default_yes', 'y_no', 'y_yes'],\n",
       "      dtype='object')"
      ]
     },
     "execution_count": 147,
     "metadata": {},
     "output_type": "execute_result"
    }
   ],
   "source": [
    "df1=DF\n",
    "df1.columns"
   ]
  },
  {
   "cell_type": "code",
   "execution_count": 148,
   "metadata": {},
   "outputs": [
    {
     "name": "stdout",
     "output_type": "stream",
     "text": [
      "(41188,)\n"
     ]
    }
   ],
   "source": [
    "y_label_1l=df1['default_yes']\n",
    "print(y_label_1l.shape)\n",
    "\n",
    "df1.drop(['default_yes', 'default_no'],axis=1,inplace=True)\n"
   ]
  },
  {
   "cell_type": "code",
   "execution_count": 149,
   "metadata": {},
   "outputs": [
    {
     "name": "stdout",
     "output_type": "stream",
     "text": [
      "[[0.94621755 0.05378245]\n",
      " [0.48539912 0.51460088]\n",
      " [0.75361491 0.24638509]\n",
      " ...\n",
      " [0.88357312 0.11642688]\n",
      " [0.67917631 0.32082369]\n",
      " [0.77839594 0.22160406]]\n",
      "[0.05378245 0.51460088 0.24638509 ... 0.11642688 0.32082369 0.22160406]\n",
      "[0 1 0 ... 0 0 0]\n",
      "0.7927490491219552\n"
     ]
    }
   ],
   "source": [
    "from sklearn.linear_model import LogisticRegression\n",
    "from sklearn.model_selection import train_test_split\n",
    "X_train, X_test, y_train, y_test = train_test_split(df1, y_label_1l, test_size = 0.3, random_state = 0)\n",
    "clf = LogisticRegression(random_state=0, solver='saga').fit(X_train, y_train)\n",
    "\n",
    "\n",
    "# Calculating the probability of dependent variable\n",
    "probability=clf.predict_proba(X_test)\n",
    "probability_1=clf.predict_proba(X_test)[::,1] \n",
    "print(probability)\n",
    "print(probability_1)\n",
    "\n",
    "# Predicted the class of dependent variable \n",
    "predicted_class=clf.predict(X_test)\n",
    "print(predicted_class)\n",
    "\n",
    "# Calculating the accuracy \n",
    "Accuracy=clf.score(X_test, y_test)\n",
    "print(Accuracy)\n"
   ]
  },
  {
   "cell_type": "markdown",
   "metadata": {},
   "source": [
    "From below result we can see that the model is predicting the class for 1st row with probabilty of 0.95385016 for class 0 and \n",
    "0.04614984 for class 1. Hence, the class is 0\n",
    "\n",
    "Accuracy is 79% for model 1"
   ]
  },
  {
   "cell_type": "code",
   "execution_count": 163,
   "metadata": {},
   "outputs": [
    {
     "name": "stdout",
     "output_type": "stream",
     "text": [
      "0.08388390310677744\n"
     ]
    }
   ],
   "source": [
    "# performed 5-fold cross validation \n",
    "from sklearn.model_selection import cross_val_score\n",
    "scores = cross_val_score(model, X_train, y_train, cv=5)\n",
    "print (scores.mean())"
   ]
  },
  {
   "cell_type": "markdown",
   "metadata": {},
   "source": [
    "#### Log Loss for logistic model 1:\n",
    "\n",
    "****Cross-entropy loss, or Logarithmic loss (log loss)**** is a performance metric for evaluating the predictions of probabilities of membership to a given class.\n",
    "\n",
    "The scalar probability between 0 and 1 can be seen as a measure of confidence for a prediction by an algorithm. Predictions that are correct or incorrect are rewarded or punished proportionally to the confidence of the prediction.\n",
    "\n",
    "A perfect model would have a log loss of 0."
   ]
  },
  {
   "cell_type": "code",
   "execution_count": 151,
   "metadata": {},
   "outputs": [
    {
     "data": {
      "text/plain": [
       "0.44798380307382324"
      ]
     },
     "execution_count": 151,
     "metadata": {},
     "output_type": "execute_result"
    }
   ],
   "source": [
    "from sklearn.metrics import log_loss\n",
    "log_loss(y_test,probability)"
   ]
  },
  {
   "cell_type": "markdown",
   "metadata": {},
   "source": [
    "#### Area Under the ROC curve (AUC – ROC) for logistic model 1:\n",
    "\n",
    "Area under ROC Curve (or AUC for short) is a performance metric for binary classification problems.\n",
    "\n",
    "The AUC represents a model’s ability to discriminate between positive and negative classes. An area of 1.0 represents a model that made all predictions perfectly. An area of 0.5 represents a model as good as random. Learn more about ROC here.\n",
    "\n",
    "ROC can be broken down into sensitivity and specificity. A binary classification problem is really a trade-off between sensitivity and specificity.\n",
    "\n",
    "- Sensitivity is the true positive rate also called the recall. It is the number instances from the positive (first) class that actually predicted correctly.\n",
    "- Specificity is also called the true negative rate. Is the number of instances from the negative class (second) class that were actually predicted correctly.\n",
    "\n",
    "Hence AUC itself is the ratio under the curve and the total area. "
   ]
  },
  {
   "cell_type": "code",
   "execution_count": 152,
   "metadata": {},
   "outputs": [
    {
     "name": "stdout",
     "output_type": "stream",
     "text": [
      "0.7504099198965386\n"
     ]
    },
    {
     "data": {
      "image/png": "[encoded data removed]",
      "text/plain": [
       "<Figure size 432x288 with 1 Axes>"
      ]
     },
     "metadata": {
      "needs_background": "light"
     },
     "output_type": "display_data"
    }
   ],
   "source": [
    "from sklearn.metrics import roc_curve, auc\n",
    "fpr, tpr, thresholds = roc_curve(y_test,probability_1)\n",
    "\n",
    "roc_auc = auc(fpr, tpr)\n",
    "print(roc_auc)\n",
    "\n",
    "plt.figure()\n",
    "lw = 2\n",
    "plt.plot(fpr, tpr, color='red',lw=lw, label='ROC curve (area = %0.2f)' % roc_auc)\n",
    "plt.plot([0, 1], [0, 1], color='navy', lw=lw, linestyle='--')\n",
    "plt.xlim([0.0, 1.0])\n",
    "plt.ylim([0.0, 1.05])\n",
    "plt.xlabel('False Positive Rate')\n",
    "plt.ylabel('True Positive Rate')\n",
    "plt.title('Receiver operating characteristic example')\n",
    "plt.legend(loc=\"lower right\")\n",
    "plt.show()"
   ]
  },
  {
   "cell_type": "markdown",
   "metadata": {},
   "source": [
    "You can see the the ROC curve area is 0.75, which is relatively good"
   ]
  },
  {
   "cell_type": "markdown",
   "metadata": {},
   "source": [
    "#### Logistic Model: Model 2"
   ]
  },
  {
   "cell_type": "code",
   "execution_count": 153,
   "metadata": {},
   "outputs": [],
   "source": [
    "df2=DF.drop(['emp.var.rate', 'cons.price.idx', 'cons.conf.idx','age'],axis=1,inplace=False)"
   ]
  },
  {
   "cell_type": "code",
   "execution_count": 164,
   "metadata": {},
   "outputs": [
    {
     "name": "stdout",
     "output_type": "stream",
     "text": [
      "[[0.81641683 0.18358317]\n",
      " [0.52474193 0.47525807]\n",
      " [0.86193124 0.13806876]\n",
      " ...\n",
      " [0.90531099 0.09468901]\n",
      " [0.67524752 0.32475248]\n",
      " [0.85937318 0.14062682]]\n",
      "[0.18358317 0.47525807 0.13806876 ... 0.09468901 0.32475248 0.14062682]\n",
      "[0 0 0 ... 0 0 0]\n",
      "0.7890264627336733\n"
     ]
    }
   ],
   "source": [
    "from sklearn.linear_model import LogisticRegression\n",
    "from sklearn.model_selection import train_test_split\n",
    "X_train, X_test, y_train, y_test = train_test_split(df2, y_label_1l, test_size = 0.3, random_state = 0)\n",
    "clf = LogisticRegression(random_state=0, solver='saga').fit(X_train, y_train)\n",
    "\n",
    "# Calculated the probability of dependent variable\n",
    "probability=clf.predict_proba(X_test)\n",
    "probability_2=clf.predict_proba(X_test)[::,1] \n",
    "print(probability)\n",
    "print(probability_2)\n",
    "\n",
    "# Predicted the class of dependent variable\n",
    "predicted_class=clf.predict(X_test)\n",
    "print(predicted_class)\n",
    "\n",
    "# Calculated the accuracy of model 2\n",
    "Accuracy=clf.score(X_test, y_test)\n",
    "print(Accuracy)"
   ]
  },
  {
   "cell_type": "markdown",
   "metadata": {},
   "source": [
    "From the above result, we can see that the model is predicting the class for 1st row with probabilty of 0.84219289 for class 0 and 0.15780711 for class 1. Hence, the class is 0 for model 2.\n",
    "\n",
    "Accuracy is 78.9% for model 2"
   ]
  },
  {
   "cell_type": "code",
   "execution_count": 155,
   "metadata": {},
   "outputs": [
    {
     "name": "stdout",
     "output_type": "stream",
     "text": [
      "0.07933162869496597\n"
     ]
    }
   ],
   "source": [
    "# performed 5-fold cross validation \n",
    "from sklearn.model_selection import cross_val_score\n",
    "scores = cross_val_score(model, X_train, y_train, cv=5)\n",
    "print (scores.mean())"
   ]
  },
  {
   "cell_type": "markdown",
   "metadata": {},
   "source": [
    "****Log Loss for Model 2:****"
   ]
  },
  {
   "cell_type": "code",
   "execution_count": 156,
   "metadata": {},
   "outputs": [
    {
     "data": {
      "text/plain": [
       "0.47408867746575656"
      ]
     },
     "execution_count": 156,
     "metadata": {},
     "output_type": "execute_result"
    }
   ],
   "source": [
    "from sklearn.metrics import log_loss\n",
    "log_loss(y_test,probability)"
   ]
  },
  {
   "cell_type": "markdown",
   "metadata": {},
   "source": [
    "****Area Under the ROC curve (AUC – ROC) for logistic model 2****:"
   ]
  },
  {
   "cell_type": "code",
   "execution_count": 157,
   "metadata": {},
   "outputs": [
    {
     "name": "stdout",
     "output_type": "stream",
     "text": [
      "0.7005887851069272\n"
     ]
    },
    {
     "data": {
      "image/png": "[encoded data removed]",
      "text/plain": [
       "<Figure size 432x288 with 1 Axes>"
      ]
     },
     "metadata": {
      "needs_background": "light"
     },
     "output_type": "display_data"
    }
   ],
   "source": [
    "from sklearn.metrics import roc_curve, auc\n",
    "fpr, tpr, thresholds = roc_curve(y_test, probability_2)\n",
    "\n",
    "roc_auc = auc(fpr, tpr)\n",
    "print(roc_auc)\n",
    "\n",
    "plt.figure()\n",
    "lw = 2\n",
    "plt.plot(fpr, tpr, color='red',lw=lw, label='ROC curve (area = %0.2f)' % roc_auc)\n",
    "plt.plot([0, 1], [0, 1], color='navy', lw=lw, linestyle='--')\n",
    "plt.xlim([0.0, 1.0])\n",
    "plt.ylim([0.0, 1.05])\n",
    "plt.xlabel('False Positive Rate')\n",
    "plt.ylabel('True Positive Rate')\n",
    "plt.title('Receiver operating characteristic example')\n",
    "plt.legend(loc=\"lower right\")\n",
    "plt.show()"
   ]
  },
  {
   "cell_type": "markdown",
   "metadata": {},
   "source": [
    "As you can see from the above graph, the ROC curve area is 0.70, which is less than model 1"
   ]
  },
  {
   "cell_type": "markdown",
   "metadata": {},
   "source": [
    "#### Logistic Model: Model 3"
   ]
  },
  {
   "cell_type": "code",
   "execution_count": 158,
   "metadata": {},
   "outputs": [],
   "source": [
    "df3=DF.drop(['housing_yes','housing_no','marital_divorced', 'marital_married', 'marital_single',\n",
    "       'marital_unknown','age','education_basic.4y', 'education_basic.6y',\n",
    "       'education_basic.9y', 'education_high.school', 'education_illiterate',\n",
    "       'education_not.known', 'education_professional.course',\n",
    "       'education_university.degree'],axis=1,inplace=False)"
   ]
  },
  {
   "cell_type": "code",
   "execution_count": 165,
   "metadata": {},
   "outputs": [
    {
     "name": "stdout",
     "output_type": "stream",
     "text": [
      "[[0.89271661 0.10728339]\n",
      " [0.59745999 0.40254001]\n",
      " [0.81589012 0.18410988]\n",
      " ...\n",
      " [0.87212272 0.12787728]\n",
      " [0.6854582  0.3145418 ]\n",
      " [0.88684497 0.11315503]]\n",
      "[0.10728339 0.40254001 0.18410988 ... 0.12787728 0.3145418  0.11315503]\n",
      "[0 0 0 ... 0 0 0]\n",
      "0.7895120174799709\n"
     ]
    }
   ],
   "source": [
    "from sklearn.linear_model import LogisticRegression\n",
    "from sklearn.model_selection import train_test_split\n",
    "X_train, X_test, y_train, y_test = train_test_split(df3, y_label_1l, test_size = 0.3, random_state = 0)\n",
    "\n",
    "from sklearn.preprocessing import StandardScaler\n",
    "sc_X = StandardScaler()\n",
    "X_train = sc_X.fit_transform(X_train)\n",
    "X_test = sc_X.transform(X_test)\n",
    "\n",
    "clf = LogisticRegression(random_state=0, solver='saga').fit(X_train, y_train)\n",
    "\n",
    "# Calculated the probability of dependent variable\n",
    "probability=clf.predict_proba(X_test)\n",
    "probability_3=clf.predict_proba(X_test)[::,1] \n",
    "print(probability)\n",
    "print(probability_3)\n",
    "\n",
    "# Predicted the class of dependent variable\n",
    "predicted_class=clf.predict(X_test)\n",
    "print(predicted_class)\n",
    "\n",
    "# Calculated the accuracy of model 2\n",
    "Accuracy=clf.score(X_test, y_test)\n",
    "print(Accuracy)"
   ]
  },
  {
   "cell_type": "code",
   "execution_count": 160,
   "metadata": {},
   "outputs": [
    {
     "name": "stdout",
     "output_type": "stream",
     "text": [
      "0.08388390310677744\n"
     ]
    }
   ],
   "source": [
    "# performed 5-fold cross validation \n",
    "from sklearn.model_selection import cross_val_score\n",
    "scores = cross_val_score(model, X_train, y_train, cv=5)\n",
    "print (scores.mean())"
   ]
  },
  {
   "cell_type": "markdown",
   "metadata": {},
   "source": [
    "From the above result, we can see that the model is predicting the class for 1st row with probabilty of 0.9370755 for class 0 and 0.0629245  for class 1. Hence, the class is 0 for model 3.\n",
    "\n",
    "Accuracy is 78.9% for model 3"
   ]
  },
  {
   "cell_type": "markdown",
   "metadata": {},
   "source": [
    "****Log Loss for Model 3:****"
   ]
  },
  {
   "cell_type": "code",
   "execution_count": 161,
   "metadata": {},
   "outputs": [
    {
     "data": {
      "text/plain": [
       "0.46997257086838606"
      ]
     },
     "execution_count": 161,
     "metadata": {},
     "output_type": "execute_result"
    }
   ],
   "source": [
    "from sklearn.metrics import log_loss\n",
    "log_loss(y_test,probability)"
   ]
  },
  {
   "cell_type": "markdown",
   "metadata": {},
   "source": [
    "****Area Under the ROC curve (AUC – ROC) for logistic model 3:****"
   ]
  },
  {
   "cell_type": "code",
   "execution_count": 162,
   "metadata": {},
   "outputs": [
    {
     "name": "stdout",
     "output_type": "stream",
     "text": [
      "0.7050804852207323\n"
     ]
    },
    {
     "data": {
      "image/png": "[encoded data removed]",
      "text/plain": [
       "<Figure size 432x288 with 1 Axes>"
      ]
     },
     "metadata": {
      "needs_background": "light"
     },
     "output_type": "display_data"
    }
   ],
   "source": [
    "from sklearn.metrics import roc_curve, auc\n",
    "fpr, tpr, thresholds = roc_curve(y_test, probability_3)\n",
    "\n",
    "roc_auc = auc(fpr, tpr)\n",
    "print(roc_auc)\n",
    "\n",
    "plt.figure()\n",
    "lw = 2\n",
    "plt.plot(fpr, tpr, color='red',lw=lw, label='ROC curve (area = %0.2f)' % roc_auc)\n",
    "plt.plot([0, 1], [0, 1], color='navy', lw=lw, linestyle='--')\n",
    "plt.xlim([0.0, 1.0])\n",
    "plt.ylim([0.0, 1.05])\n",
    "plt.xlabel('False Positive Rate')\n",
    "plt.ylabel('True Positive Rate')\n",
    "plt.title('Receiver operating characteristic example')\n",
    "plt.legend(loc=\"lower right\")\n",
    "plt.show()"
   ]
  },
  {
   "cell_type": "markdown",
   "metadata": {},
   "source": [
    "As you can see from the above graph, the ROC curve area is 0.71, which is less than model 1"
   ]
  },
  {
   "cell_type": "markdown",
   "metadata": {},
   "source": [
    "### Conclusion of Logistic Regression"
   ]
  },
  {
   "cell_type": "markdown",
   "metadata": {},
   "source": [
    "- By observing all the three models, we can conclude that the relationship of the target variable with the features mentioned is significant. The significant features are as below: Age, marital, job, housing, loan, default, campaign, etc\n",
    "- The results show that the model 1 and model 3 have better accuracy with respect to model 2.\n",
    "- All three model makes sense.\n",
    "- For all three models cross validation gives good result, such that it is accurate.\n",
    "- Log loss, AUC-ROC curve for Model 1,2 and 3 is calculated. According to that, model 1 is the one which should be choosen\n",
    "- The probability of the dependent variable is calculated in all three models\n",
    "- Depending on the accuracy calculated for all the three models, model 1 has the highest accuracy and best ROC curve area. Hence, model 1 should be choosen"
   ]
  },
  {
   "cell_type": "markdown",
   "metadata": {},
   "source": [
    "## Multi-colinearity and step-wise regression:\n",
    "\n",
    "Multicollinearity (also collinearity) is a phenomenon in which one predictor variable in a multiple regression model can be linearly predicted from the others with a substantial degree of accuracy. In this situation the coefficient estimates of the multiple regression may change erratically in response to small changes in the model or the data. \n",
    "\n",
    "Multicollinearity does not reduce the predictive power or reliability of the model as a whole, at least within the sample data set; it only affects calculations regarding individual predictors."
   ]
  },
  {
   "cell_type": "code",
   "execution_count": 173,
   "metadata": {},
   "outputs": [
    {
     "data": {
      "text/plain": [
       "Index(['job', 'marital', 'education', 'housing', 'loan', 'default', 'age',\n",
       "       'campaign', 'emp.var.rate', 'cons.price.idx', 'cons.conf.idx', 'y',\n",
       "       'nr.employed'],\n",
       "      dtype='object')"
      ]
     },
     "execution_count": 173,
     "metadata": {},
     "output_type": "execute_result"
    }
   ],
   "source": [
    "df1=bank[feature_final1]\n",
    "from sklearn.preprocessing import LabelEncoder\n",
    "labelencoder_X = LabelEncoder()\n",
    "df1['job']      = labelencoder_X.fit_transform(df1['job']) \n",
    "df1['marital']  = labelencoder_X.fit_transform(df1['marital']) \n",
    "df1['education']= labelencoder_X.fit_transform(df1['education']) \n",
    "df1['default']  = labelencoder_X.fit_transform(df1['default']) \n",
    "df1['housing']  = labelencoder_X.fit_transform(df1['housing']) \n",
    "df1['loan']     = labelencoder_X.fit_transform(df1['loan']) \n",
    "df1['y']     = labelencoder_X.fit_transform(df1['y']) \n",
    "\n",
    "df1.columns"
   ]
  },
  {
   "cell_type": "markdown",
   "metadata": {},
   "source": [
    "****The Variance Inflation Factor (VIF)**** is a measure of colinearity among predictor variables within a multiple regression. It is calculated by taking the the ratio of the variance of all a given model's betas divide by the variane of a single beta if it were fit alone."
   ]
  },
  {
   "cell_type": "code",
   "execution_count": 174,
   "metadata": {},
   "outputs": [],
   "source": [
    "from statsmodels.stats.outliers_influence import variance_inflation_factor\n",
    "vif = pd.DataFrame()\n",
    "vif[\"VIF Factor\"] = [variance_inflation_factor(df1.values, i) for i in range(df1.shape[1])]\n",
    "vif[\"features\"] = df1.columns"
   ]
  },
  {
   "cell_type": "code",
   "execution_count": 175,
   "metadata": {},
   "outputs": [
    {
     "data": {
      "text/html": [
       "<div>\n",
       "<style scoped>\n",
       "    .dataframe tbody tr th:only-of-type {\n",
       "        vertical-align: middle;\n",
       "    }\n",
       "\n",
       "    .dataframe tbody tr th {\n",
       "        vertical-align: top;\n",
       "    }\n",
       "\n",
       "    .dataframe thead th {\n",
       "        text-align: right;\n",
       "    }\n",
       "</style>\n",
       "<table border=\"1\" class=\"dataframe\">\n",
       "  <thead>\n",
       "    <tr style=\"text-align: right;\">\n",
       "      <th></th>\n",
       "      <th>VIF Factor</th>\n",
       "      <th>features</th>\n",
       "    </tr>\n",
       "  </thead>\n",
       "  <tbody>\n",
       "    <tr>\n",
       "      <th>0</th>\n",
       "      <td>2.1</td>\n",
       "      <td>job</td>\n",
       "    </tr>\n",
       "    <tr>\n",
       "      <th>1</th>\n",
       "      <td>5.6</td>\n",
       "      <td>marital</td>\n",
       "    </tr>\n",
       "    <tr>\n",
       "      <th>2</th>\n",
       "      <td>4.1</td>\n",
       "      <td>education</td>\n",
       "    </tr>\n",
       "    <tr>\n",
       "      <th>3</th>\n",
       "      <td>2.2</td>\n",
       "      <td>housing</td>\n",
       "    </tr>\n",
       "    <tr>\n",
       "      <th>4</th>\n",
       "      <td>1.2</td>\n",
       "      <td>loan</td>\n",
       "    </tr>\n",
       "    <tr>\n",
       "      <th>5</th>\n",
       "      <td>1.4</td>\n",
       "      <td>default</td>\n",
       "    </tr>\n",
       "    <tr>\n",
       "      <th>6</th>\n",
       "      <td>19.6</td>\n",
       "      <td>age</td>\n",
       "    </tr>\n",
       "    <tr>\n",
       "      <th>7</th>\n",
       "      <td>1.9</td>\n",
       "      <td>campaign</td>\n",
       "    </tr>\n",
       "    <tr>\n",
       "      <th>8</th>\n",
       "      <td>2.0</td>\n",
       "      <td>emp.var.rate</td>\n",
       "    </tr>\n",
       "    <tr>\n",
       "      <th>9</th>\n",
       "      <td>12944.2</td>\n",
       "      <td>cons.price.idx</td>\n",
       "    </tr>\n",
       "    <tr>\n",
       "      <th>10</th>\n",
       "      <td>86.0</td>\n",
       "      <td>cons.conf.idx</td>\n",
       "    </tr>\n",
       "    <tr>\n",
       "      <th>11</th>\n",
       "      <td>1.3</td>\n",
       "      <td>y</td>\n",
       "    </tr>\n",
       "    <tr>\n",
       "      <th>12</th>\n",
       "      <td>12972.7</td>\n",
       "      <td>nr.employed</td>\n",
       "    </tr>\n",
       "  </tbody>\n",
       "</table>\n",
       "</div>"
      ],
      "text/plain": [
       "    VIF Factor        features\n",
       "0          2.1             job\n",
       "1          5.6         marital\n",
       "2          4.1       education\n",
       "3          2.2         housing\n",
       "4          1.2            loan\n",
       "5          1.4         default\n",
       "6         19.6             age\n",
       "7          1.9        campaign\n",
       "8          2.0    emp.var.rate\n",
       "9      12944.2  cons.price.idx\n",
       "10        86.0   cons.conf.idx\n",
       "11         1.3               y\n",
       "12     12972.7     nr.employed"
      ]
     },
     "execution_count": 175,
     "metadata": {},
     "output_type": "execute_result"
    }
   ],
   "source": [
    "vif.round(1)"
   ]
  },
  {
   "cell_type": "markdown",
   "metadata": {},
   "source": [
    "As expected, the ****cons.price.idx**** and ****cons.conf.idx**** have a high variance inflation factor because they \"explain\" the same variance within this dataset. \n",
    "\n",
    "We would need to discard one of these variables before moving on to model building or risk building a model with high multicolinearity."
   ]
  },
  {
   "cell_type": "code",
   "execution_count": 176,
   "metadata": {},
   "outputs": [],
   "source": [
    "df_1=df1.drop(['cons.price.idx','emp.var.rate'],axis=1,inplace=False)"
   ]
  },
  {
   "cell_type": "markdown",
   "metadata": {},
   "source": [
    "## Conclusion of Multi-colinearity:\n",
    "\n",
    "1. Is there any multi-colinearity in the model?    \n",
    " -  Yes, the model which is being considered, has multi-colinearity \n",
    "2. In the multiple regression models are predictor variables independent of all the other predictor variables?\n",
    " -  No, the predictor variables are not independent of all the other predictor variables\n",
    "3. In multiple regression models rank the most significant predictor variables and exclude insignificant ones from the model. \n",
    " -  Rank - loan, job, housing,education, marital for DF1\n",
    " -  Rank - loan, y, job, contact, day_of_week, education for DF2\n",
    " -  Rank - y, job, housing, duration, contact, day_of_week for DF3\n",
    "(VIF is calculated and displayed only for DF1)"
   ]
  },
  {
   "cell_type": "markdown",
   "metadata": {},
   "source": [
    "****Cross-validation****"
   ]
  },
  {
   "cell_type": "code",
   "execution_count": 177,
   "metadata": {},
   "outputs": [
    {
     "name": "stdout",
     "output_type": "stream",
     "text": [
      "value of Accuracy_train:  0.922477\n",
      "value of Accuracy_test:  0.920251\n",
      "0.9222956963707162\n"
     ]
    }
   ],
   "source": [
    "from sklearn.model_selection import train_test_split\n",
    "from sklearn.linear_model import LinearRegression\n",
    "from sklearn.metrics import mean_squared_error, mean_squared_log_error\n",
    "X_train, X_test, y_train, y_test = train_test_split(df1_lin, y_label_1, test_size = 0.3, random_state = 0)\n",
    "\n",
    "model = LinearRegression(normalize=True)\n",
    "\n",
    "model.fit(X_train, y_train)\n",
    "print(\"value of Accuracy_train:%10f\"% model.score(X_train,y_train))\n",
    "print(\"value of Accuracy_test:%10f\"% model.score(X_test,y_test))\n",
    "\n",
    "\n",
    "# performed 5-fold cross validation \n",
    "from sklearn.model_selection import cross_val_score\n",
    "scores = cross_val_score(model, X_train, y_train, cv=5)\n",
    "print (scores.mean())"
   ]
  },
  {
   "cell_type": "markdown",
   "metadata": {},
   "source": [
    "4. Cross-validate the models. How well did they do?  \n",
    " - One of the linear models have been cross-validated. It has done well with accuracy of 0.92"
   ]
  },
  {
   "cell_type": "markdown",
   "metadata": {},
   "source": [
    "### Interaction effect:\n",
    "\n",
    "In statistics, an interaction may arise when considering the relationship among three or more variables, and describes a situation in which the effect of one causal variable on an outcome depends on the state of a second causal variable (that is, when effects of the two causes are not additive).\n",
    "\n",
    "The presence of interactions can have important implications for the interpretation of statistical models. If two variables of interest interact, the relationship between each of the interacting variables and a third \"dependent variable\" depends on the value of the other interacting variable."
   ]
  },
  {
   "cell_type": "markdown",
   "metadata": {},
   "source": [
    "****Interaction effect of model 1:****"
   ]
  },
  {
   "cell_type": "code",
   "execution_count": 178,
   "metadata": {},
   "outputs": [],
   "source": [
    "df_int3 = df1['education'] * df1['loan']"
   ]
  },
  {
   "cell_type": "code",
   "execution_count": 180,
   "metadata": {},
   "outputs": [
    {
     "name": "stdout",
     "output_type": "stream",
     "text": [
      "(41188, 36)\n"
     ]
    }
   ],
   "source": [
    "DF_F=pd.concat([df1_lin,df_int3], axis=1)\n",
    "\n",
    "print(DF_F.shape)"
   ]
  },
  {
   "cell_type": "code",
   "execution_count": 181,
   "metadata": {},
   "outputs": [
    {
     "name": "stdout",
     "output_type": "stream",
     "text": [
      "value of Accuracy_train:  0.922477\n",
      "value of Accuracy_test:  0.920248\n"
     ]
    }
   ],
   "source": [
    "\n",
    "from sklearn.model_selection import train_test_split\n",
    "from sklearn.linear_model import LinearRegression\n",
    "from sklearn.metrics import mean_squared_error, mean_squared_log_error\n",
    "X_train, X_test, y_train, y_test = train_test_split(DF_F, y_label_1, test_size = 0.3, random_state = 0)\n",
    "\n",
    "\n",
    "model = LinearRegression(normalize=True)\n",
    "model.fit(X_train, y_train)\n",
    "\n",
    "print(\"value of Accuracy_train:%10f\"% model.score(X_train,y_train))\n",
    "print(\"value of Accuracy_test:%10f\"% model.score(X_test,y_test))"
   ]
  },
  {
   "cell_type": "code",
   "execution_count": 182,
   "metadata": {},
   "outputs": [
    {
     "name": "stdout",
     "output_type": "stream",
     "text": [
      "rmse_train: 20.105003488444314 msle_train: 1.5513436451485408e-05\n",
      "rmse_test: 20.43148612746953 msle_test: 1.603982863199972e-05\n"
     ]
    },
    {
     "data": {
      "image/png": "[encoded data removed]",
      "text/plain": [
       "<Figure size 576x576 with 1 Axes>"
      ]
     },
     "metadata": {
      "needs_background": "light"
     },
     "output_type": "display_data"
    }
   ],
   "source": [
    "train_pred_Y = model.predict(X_train)\n",
    "test_pred_Y = model.predict(X_test)\n",
    "train_pred_Y = pd.Series(train_pred_Y.clip(0, train_pred_Y.max()), index=y_train.index)\n",
    "test_pred_Y = pd.Series(test_pred_Y.clip(0, test_pred_Y.max()), index=y_test.index)\n",
    "\n",
    "rmse_train = np.sqrt(mean_squared_error(train_pred_Y, y_train))\n",
    "msle_train = mean_squared_log_error(train_pred_Y, y_train)\n",
    "rmse_test = np.sqrt(mean_squared_error(test_pred_Y, y_test))\n",
    "msle_test = mean_squared_log_error(test_pred_Y, y_test)\n",
    "\n",
    "print('rmse_train:',rmse_train,'msle_train:',msle_train)\n",
    "print('rmse_test:',rmse_test,'msle_test:',msle_test)\n",
    "plt.figure(figsize=(8,8))\n",
    "plt.scatter(test_pred_Y ,y_test ,alpha = 0.3)\n",
    "plt.xlabel('Features')\n",
    "plt.ylabel('Number of employees')\n",
    "plt.title(\"Linear Regression for model 1\")\n",
    "plt.show()"
   ]
  },
  {
   "cell_type": "markdown",
   "metadata": {},
   "source": [
    "From the interaction effect performed on model 1 (by considering education and loan product term), we can conclude that there was no major effect of the product term,i.e. there is no significant synergy observed as the accuracy of the model with and without product term being involved is 92.2%\n",
    "\n",
    "Let us consider two more variables for interaction effect to be performed on model 2.\n",
    "\n",
    "#### Interaction effect of model 2:"
   ]
  },
  {
   "cell_type": "code",
   "execution_count": 196,
   "metadata": {},
   "outputs": [],
   "source": [
    "df_int = df1['marital'] * df1['loan']"
   ]
  },
  {
   "cell_type": "code",
   "execution_count": 197,
   "metadata": {},
   "outputs": [
    {
     "name": "stdout",
     "output_type": "stream",
     "text": [
      "(41188, 36)\n"
     ]
    }
   ],
   "source": [
    "DF_DF=pd.concat([df1_lin,df_int], axis=1)\n",
    "\n",
    "print(DF_DF.shape)"
   ]
  },
  {
   "cell_type": "code",
   "execution_count": 198,
   "metadata": {},
   "outputs": [
    {
     "name": "stdout",
     "output_type": "stream",
     "text": [
      "value of Accuracy_train:  0.922487\n",
      "value of Accuracy_test:  0.920258\n"
     ]
    }
   ],
   "source": [
    "from sklearn.model_selection import train_test_split\n",
    "from sklearn.linear_model import LinearRegression\n",
    "from sklearn.metrics import mean_squared_error, mean_squared_log_error\n",
    "X_train, X_test, y_train, y_test = train_test_split(DF_DF, y_label_1, test_size = 0.3, random_state = 0)\n",
    "\n",
    "\n",
    "model = LinearRegression(normalize=True)\n",
    "model.fit(X_train, y_train)\n",
    "\n",
    "print(\"value of Accuracy_train:%10f\"% model.score(X_train,y_train))\n",
    "print(\"value of Accuracy_test:%10f\"% model.score(X_test,y_test))"
   ]
  },
  {
   "cell_type": "code",
   "execution_count": 199,
   "metadata": {},
   "outputs": [
    {
     "name": "stdout",
     "output_type": "stream",
     "text": [
      "rmse_train: 20.103673511940432 msle_train: 1.5511320342045724e-05\n",
      "rmse_test: 20.430267441909585 msle_test: 1.6037701497109535e-05\n"
     ]
    },
    {
     "data": {
      "image/png": "[encoded data removed]",
      "text/plain": [
       "<Figure size 576x576 with 1 Axes>"
      ]
     },
     "metadata": {
      "needs_background": "light"
     },
     "output_type": "display_data"
    }
   ],
   "source": [
    "train_pred_Y = model.predict(X_train)\n",
    "test_pred_Y = model.predict(X_test)\n",
    "train_pred_Y = pd.Series(train_pred_Y.clip(0, train_pred_Y.max()), index=y_train.index)\n",
    "test_pred_Y = pd.Series(test_pred_Y.clip(0, test_pred_Y.max()), index=y_test.index)\n",
    "\n",
    "rmse_train = np.sqrt(mean_squared_error(train_pred_Y, y_train))\n",
    "msle_train = mean_squared_log_error(train_pred_Y, y_train)\n",
    "rmse_test = np.sqrt(mean_squared_error(test_pred_Y, y_test))\n",
    "msle_test = mean_squared_log_error(test_pred_Y, y_test)\n",
    "\n",
    "print('rmse_train:',rmse_train,'msle_train:',msle_train)\n",
    "print('rmse_test:',rmse_test,'msle_test:',msle_test)\n",
    "plt.figure(figsize=(8,8))\n",
    "plt.scatter(test_pred_Y ,y_test ,alpha = 0.3)\n",
    "plt.xlabel('Features')\n",
    "plt.ylabel('Number of employees')\n",
    "plt.title(\"Linear Regression for model 1\")\n",
    "plt.show()"
   ]
  },
  {
   "cell_type": "markdown",
   "metadata": {},
   "source": [
    "From the interaction effect performed on model 2 (by considering education and loan product term), we can conclude that there was no major effect of the product term,i.e. there is no significant synergy observed as the accuracy of the model with and without product term being involved is 92.2%"
   ]
  },
  {
   "cell_type": "markdown",
   "metadata": {},
   "source": [
    "### Regularization:\n",
    "\n",
    "Regularization, significantly reduces the variance of the model, without substantial increase in its bias.\n",
    "\n",
    "Regularization is a technique that helps in avoiding overfitting and also increasing model interpretability.\n",
    "\n",
    "L2 Regularization has been performed below and the output is compared with non-regularized linear regression in the form of graph."
   ]
  },
  {
   "cell_type": "code",
   "execution_count": 200,
   "metadata": {},
   "outputs": [
    {
     "name": "stdout",
     "output_type": "stream",
     "text": [
      "0.9224741012116655\n",
      "0.9224769442158579\n",
      "0.9224769436349998\n",
      "0.9224769426736582\n",
      "0.9224769413371336\n",
      "0.9224769396305376\n",
      "0.9224769375587959\n",
      "0.9224769351266571\n",
      "0.9224769323387041\n",
      "0.9224769291993541\n",
      "0.9224769257128678\n"
     ]
    },
    {
     "data": {
      "text/plain": [
       "Text(0.5, 1.0, 'Alpha vs Accuracy')"
      ]
     },
     "execution_count": 200,
     "metadata": {},
     "output_type": "execute_result"
    },
    {
     "data": {
      "image/png": "[encoded data removed]",
      "text/plain": [
       "<Figure size 432x288 with 1 Axes>"
      ]
     },
     "metadata": {
      "needs_background": "light"
     },
     "output_type": "display_data"
    }
   ],
   "source": [
    "from sklearn.model_selection import train_test_split\n",
    "from sklearn.linear_model import LinearRegression\n",
    "from sklearn.metrics import mean_squared_error, mean_squared_log_error\n",
    "X_train, X_test, y_train, y_test = train_test_split(df1_lin, y_label_1, test_size = 0.3, random_state = 0)\n",
    "\n",
    "\n",
    "from sklearn.linear_model import Ridge\n",
    "Accuracy=[]\n",
    "Alpha=[0,0.1,0.2,0.3,0.4,0.5,0.6,0.7,0.8,0.9,1]\n",
    "\n",
    "model = LinearRegression(normalize=True)\n",
    "\n",
    "for i in range(0,110,10):\n",
    "\n",
    "    model = Ridge(alpha=0.01*i)# applied regularization(Ridge)\n",
    "    model.fit(X_train, y_train)\n",
    "    accuracy=model.score(X_train,y_train)\n",
    "    print(accuracy)\n",
    "    \n",
    "    Accuracy.append(accuracy)\n",
    "\n",
    "\n",
    "plt.ylabel('Accuracy')\n",
    "plt.xlabel('Alpha')\n",
    "plt.plot(Alpha,Accuracy)\n",
    "plt.title(\"Alpha vs Accuracy\")\n"
   ]
  },
  {
   "cell_type": "markdown",
   "metadata": {},
   "source": [
    "From the graph, we can observe that the accuracy is constant after alpha > 0.1. "
   ]
  },
  {
   "cell_type": "markdown",
   "metadata": {},
   "source": [
    "## Conclusion:\n",
    "\n",
    "#### a. Conclusion of Linear Regression:\n",
    "\n",
    "- By observing all the three models, we can conclude that the relationship of the target variable with the features mentioned is significant. The significant features are as below: Age, marital, job, housing, loan, default, campaign, etc\n",
    "- The results show that the model 1 and model 3 have better accuracy with respect to model 2\n",
    "- All three model makes sense\n",
    "- Model assumption violation have been calculated and displayed in the graphs for all three models \n",
    "- For all three models cross validation gives good result, such that it is accurate\n",
    "- AIC,BIC and adjusted R^2 for Linear Model 1,2 and 3 is the least, highest and lower , hence model 1 is the one which should be choosen\n",
    "\n",
    "#### b. Conclusion of Logistic Regression:\n",
    "\n",
    "- By observing all the three models, we can conclude that the relationship of the target variable with the features mentioned is significant. The significant features are as below: Age, marital, job, housing, loan, default, campaign, etc\n",
    "- The results show that the model 1 and model 3 have better accuracy with respect to model 2\n",
    "- All three model makes sense\n",
    "- For all three models cross validation gives good result, such that it is accurate\n",
    "- Log loss, AUC-ROC curve for Model 1,2 and 3 is calculated. According to that, model 1 is the one which should be choosen\n",
    "- The probability of the dependent variable is calculated in all three models\n",
    "- Depending on the accuracy calculated for all the three models, model 1 has the highest accuracy and best ROC curve area.Hence, model 1 should be choosen\n",
    "\n",
    "#### c. Conclusion of Multi-colinearity \n",
    "1. Is there any multi-colinearity in the model? \n",
    " -  Yes, the model which is being considered, has multi-colinearity \n",
    "2. In the multiple regression models are predictor variables independent of all the other predictor variables?\n",
    " -  No, the predictor variables are not independent of all the other predictor variables\n",
    "3. In multiple regression models rank the most significant predictor variables and exclude insignificant ones from the model. \n",
    " -  Rank - loan, job, housing,education, marital for DF1\n",
    " -  Rank - loan, y, job, contact, day_of_week, education for DF2\n",
    " -  Rank - y, job, housing, duration, contact, day_of_week for DF3 (VIF is calculated and displayed only for DF1)\n",
    "\n",
    "#### d. Conclusion of Interaction effect:\n",
    "\n",
    "From the interaction effect performed on model 1 and 2 (by considering education * job and education * loan product terma), we can conclude that there was no major effect of the product term,i.e. there is no significant synergy observed as the accuracy of the model with and without product term being involved is 92.2%\n",
    "\n",
    "#### e. Conclusion of Regularization:\n",
    "\n",
    "From the graph, we can observe that the accuracy is constant after alpha > 0.1\n",
    "\n",
    "It is to be observed from the modeling methods that the training accuracy and testing accuracy have been almost the same. \n",
    "Hence, the model is not overfitting."
   ]
  },
  {
   "cell_type": "markdown",
   "metadata": {},
   "source": [
    "### Contribution\n",
    "\n",
    "- The Dataset had many unknown values , cleaning of data was done by me. \n",
    "- Initial EDA was performed on the dataset so that the dataset is clean before performing any regression. \n",
    "- Linear and Logistic regression was performed and the code was referenced from the Kernel of the Kaggle website. \n",
    "- Performed multi-colinearity on the linear model, cross-validated all the models \n",
    "- The interaction effect was calculated and the result was compared with the original model with product term\n",
    "- Significance of the independent variables was calculated on the dependent variable\n",
    "- Ridge Regularization was performed on the model. \n",
    "- On the whole, I contributed 70% to the assignment in terms of coding."
   ]
  },
  {
   "cell_type": "markdown",
   "metadata": {},
   "source": [
    "### Citations\n",
    "\n",
    "1. https://www.kaggle.com/heisenberg14/bank-marketing-with-machine-learning-analysis\n",
    "2. https://etav.github.io/python/vif_factor_python.html\n",
    "3. http://statisticsbyjim.com/regression/interaction-effects/\n",
    "4. https://www.ritchieng.com/machine-learning-evaluate-linear-regression-model/#Contents\n",
    "5. https://medium.com/@contactsunny/label-encoder-vs-one-hot-encoder-in-machine-learning-3fc273365621\n",
    "6. https://www.ritchieng.com/machinelearning-one-hot-encoding/\n",
    "7. https://zhiyzuo.github.io/Linear-Regression-Diagnostic-in-Python/"
   ]
  },
  {
   "cell_type": "markdown",
   "metadata": {},
   "source": [
    "### License\n",
    "\n",
    "Copyright (c) 2019 Sindhu Raghavendra\n",
    "\n",
    "Permission is hereby granted, free of charge, to any person obtaining a copy of this software and associated documentation files (the \"Software\"), to deal in the Software without restriction, including without limitation the rights to use, copy, modify, merge, publish, distribute, sublicense, and/or sell copies of the Software, and to permit persons to whom the Software is furnished to do so, subject to the following conditions:\n",
    "\n",
    "The above copyright notice and this permission notice shall be included in all copies or substantial portions of the Software.\n",
    "\n",
    "THE SOFTWARE IS PROVIDED \"AS IS\", WITHOUT WARRANTY OF ANY KIND, EXPRESS OR IMPLIED, INCLUDING BUT NOT LIMITED TO THE WARRANTIES OF MERCHANTABILITY, FITNESS FOR A PARTICULAR PURPOSE AND NONINFRINGEMENT. IN NO EVENT SHALL THE AUTHORS OR COPYRIGHT HOLDERS BE LIABLE FOR ANY CLAIM, DAMAGES OR OTHER LIABILITY, WHETHER IN AN ACTION OF CONTRACT, TORT OR OTHERWISE, ARISING FROM, OUT OF OR IN CONNECTION WITH THE SOFTWARE OR THE USE OR OTHER DEALINGS IN THE SOFTWARE."
   ]
  }
 ],
 "metadata": {
  "kernelspec": {
   "display_name": "Python 3",
   "language": "python",
   "name": "python3"
  },
  "language_info": {
   "codemirror_mode": {
    "name": "ipython",
    "version": 3
   },
   "file_extension": ".py",
   "mimetype": "text/x-python",
   "name": "python",
   "nbconvert_exporter": "python",
   "pygments_lexer": "ipython3",
   "version": "3.7.1"
  }
 },
 "nbformat": 4,
 "nbformat_minor": 2
}
